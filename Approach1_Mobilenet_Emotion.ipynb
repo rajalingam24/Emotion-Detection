{
  "nbformat": 4,
  "nbformat_minor": 0,
  "metadata": {
    "colab": {
      "name": "Mobilenet_Emotion.ipynb",
      "provenance": [],
      "collapsed_sections": [],
      "authorship_tag": "ABX9TyNNMe6XkkyBZjGFmKY8Tn4/",
      "include_colab_link": true
    },
    "kernelspec": {
      "name": "python3",
      "display_name": "Python 3"
    },
    "language_info": {
      "name": "python"
    },
    "accelerator": "GPU"
  },
  "cells": [
    {
      "cell_type": "markdown",
      "metadata": {
        "id": "view-in-github",
        "colab_type": "text"
      },
      "source": [
        "<a href=\"https://colab.research.google.com/github/rajalingam24/Emotion-Detection/blob/main/Approach1_Mobilenet_Emotion.ipynb\" target=\"_parent\"><img src=\"https://colab.research.google.com/assets/colab-badge.svg\" alt=\"Open In Colab\"/></a>"
      ]
    },
    {
      "cell_type": "code",
      "metadata": {
        "id": "oL4Us79Mtzce"
      },
      "source": [
        "import math\n",
        "import numpy as np\n",
        "import pandas as pd\n",
        "import seaborn as sns\n",
        "from matplotlib import pyplot as plt\n",
        "from sklearn.model_selection import train_test_split\n",
        "import cv2\n",
        "from sklearn.metrics import confusion_matrix\n",
        "from sklearn.metrics import classification_report"
      ],
      "execution_count": null,
      "outputs": []
    },
    {
      "cell_type": "code",
      "metadata": {
        "id": "gdGzxrqst-9O",
        "colab": {
          "base_uri": "https://localhost:8080/"
        },
        "outputId": "d123d96e-f0ea-4793-e460-7e31ad760282"
      },
      "source": [
        "from google.colab import drive\n",
        "drive.mount('/content/drive')\n",
        "                                  "
      ],
      "execution_count": null,
      "outputs": [
        {
          "output_type": "stream",
          "text": [
            "Mounted at /content/drive\n"
          ],
          "name": "stdout"
        }
      ]
    },
    {
      "cell_type": "code",
      "metadata": {
        "colab": {
          "base_uri": "https://localhost:8080/",
          "height": 204
        },
        "id": "JI-ZNpPquH55",
        "outputId": "c95d1a04-a237-4554-f5f8-d999edfac9a0"
      },
      "source": [
        "dataset_path = '/content/drive/MyDrive/Colab file/fer2013.csv'\n",
        "\n",
        "df = pd.read_csv(dataset_path)\n",
        "\n",
        "df.head()"
      ],
      "execution_count": null,
      "outputs": [
        {
          "output_type": "execute_result",
          "data": {
            "text/html": [
              "<div>\n",
              "<style scoped>\n",
              "    .dataframe tbody tr th:only-of-type {\n",
              "        vertical-align: middle;\n",
              "    }\n",
              "\n",
              "    .dataframe tbody tr th {\n",
              "        vertical-align: top;\n",
              "    }\n",
              "\n",
              "    .dataframe thead th {\n",
              "        text-align: right;\n",
              "    }\n",
              "</style>\n",
              "<table border=\"1\" class=\"dataframe\">\n",
              "  <thead>\n",
              "    <tr style=\"text-align: right;\">\n",
              "      <th></th>\n",
              "      <th>emotion</th>\n",
              "      <th>pixels</th>\n",
              "      <th>Usage</th>\n",
              "    </tr>\n",
              "  </thead>\n",
              "  <tbody>\n",
              "    <tr>\n",
              "      <th>0</th>\n",
              "      <td>0</td>\n",
              "      <td>70 80 82 72 58 58 60 63 54 58 60 48 89 115 121...</td>\n",
              "      <td>Training</td>\n",
              "    </tr>\n",
              "    <tr>\n",
              "      <th>1</th>\n",
              "      <td>0</td>\n",
              "      <td>151 150 147 155 148 133 111 140 170 174 182 15...</td>\n",
              "      <td>Training</td>\n",
              "    </tr>\n",
              "    <tr>\n",
              "      <th>2</th>\n",
              "      <td>2</td>\n",
              "      <td>231 212 156 164 174 138 161 173 182 200 106 38...</td>\n",
              "      <td>Training</td>\n",
              "    </tr>\n",
              "    <tr>\n",
              "      <th>3</th>\n",
              "      <td>4</td>\n",
              "      <td>24 32 36 30 32 23 19 20 30 41 21 22 32 34 21 1...</td>\n",
              "      <td>Training</td>\n",
              "    </tr>\n",
              "    <tr>\n",
              "      <th>4</th>\n",
              "      <td>6</td>\n",
              "      <td>4 0 0 0 0 0 0 0 0 0 0 0 3 15 23 28 48 50 58 84...</td>\n",
              "      <td>Training</td>\n",
              "    </tr>\n",
              "  </tbody>\n",
              "</table>\n",
              "</div>"
            ],
            "text/plain": [
              "   emotion                                             pixels     Usage\n",
              "0        0  70 80 82 72 58 58 60 63 54 58 60 48 89 115 121...  Training\n",
              "1        0  151 150 147 155 148 133 111 140 170 174 182 15...  Training\n",
              "2        2  231 212 156 164 174 138 161 173 182 200 106 38...  Training\n",
              "3        4  24 32 36 30 32 23 19 20 30 41 21 22 32 34 21 1...  Training\n",
              "4        6  4 0 0 0 0 0 0 0 0 0 0 0 3 15 23 28 48 50 58 84...  Training"
            ]
          },
          "metadata": {
            "tags": []
          },
          "execution_count": 5
        }
      ]
    },
    {
      "cell_type": "code",
      "metadata": {
        "id": "klmBbXNy-Cq_"
      },
      "source": [
        "import torch\n",
        "torch.cuda.empty_cache()"
      ],
      "execution_count": null,
      "outputs": []
    },
    {
      "cell_type": "code",
      "metadata": {
        "colab": {
          "base_uri": "https://localhost:8080/"
        },
        "id": "FZco9gBK-a6i",
        "outputId": "f4c71f5f-126d-4813-c487-8f9f60f7e744"
      },
      "source": [
        "df.emotion.value_counts()"
      ],
      "execution_count": null,
      "outputs": [
        {
          "output_type": "execute_result",
          "data": {
            "text/plain": [
              "3    8989\n",
              "6    6198\n",
              "4    6077\n",
              "2    5121\n",
              "0    4953\n",
              "5    4002\n",
              "1     547\n",
              "Name: emotion, dtype: int64"
            ]
          },
          "metadata": {
            "tags": []
          },
          "execution_count": 6
        }
      ]
    },
    {
      "cell_type": "code",
      "metadata": {
        "colab": {
          "base_uri": "https://localhost:8080/",
          "height": 279
        },
        "id": "g2XxEDAV-drm",
        "outputId": "d9e8b076-c553-405a-c9d6-0703bb5b2472"
      },
      "source": [
        "import seaborn as sns\n",
        "sns.countplot(data=df, x = 'emotion')\n",
        "plt.show()"
      ],
      "execution_count": null,
      "outputs": [
        {
          "output_type": "display_data",
          "data": {
            "image/png": "[encoded data removed]",
            "text/plain": [
              "<Figure size 432x288 with 1 Axes>"
            ]
          },
          "metadata": {
            "tags": [],
            "needs_background": "light"
          }
        }
      ]
    },
    {
      "cell_type": "code",
      "metadata": {
        "id": "K9vHKIsY-t1R"
      },
      "source": [
        "from tensorflow.keras.preprocessing.image import ImageDataGenerator\n",
        "from tensorflow.keras.models import Sequential\n",
        "from tensorflow.keras.layers import Dense, Conv2D, Flatten,Dropout, MaxPooling2D, Activation, BatchNormalization, GlobalAveragePooling2D\n",
        "from tensorflow.keras.preprocessing import image\n",
        "from tensorflow.keras.optimizers import Adam\n"
      ],
      "execution_count": null,
      "outputs": []
    },
    {
      "cell_type": "code",
      "metadata": {
        "id": "4KG-IVn--0g9"
      },
      "source": [
        "from tensorflow.keras.preprocessing.image import ImageDataGenerator\n",
        "\n",
        "\n",
        "test_datagen = ImageDataGenerator()"
      ],
      "execution_count": null,
      "outputs": []
    },
    {
      "cell_type": "code",
      "metadata": {
        "id": "peSQGaV9_H-z"
      },
      "source": [
        "image_size=(48,48)\n",
        "\n",
        "# Data Loading and Pre-Processing Functionalities\n",
        "\n",
        "def load_dataset():\n",
        "    data = pd.read_csv(dataset_path)\n",
        "    data = (data[data['pixels'].notnull()])\n",
        "    pixels = data['pixels'].tolist()\n",
        "    width, height = 48, 48\n",
        "    faces = []\n",
        "    for pixel_sequence in pixels:\n",
        "        face = [int(pixel) for pixel in pixel_sequence.split(' ')]\n",
        "        face = np.asarray(face).reshape(width, height)\n",
        "        face = cv2.resize(face.astype('uint8'),image_size)\n",
        "        face = np.stack((face,)*3, -1)\n",
        "        faces.append(face.astype('float32'))\n",
        "    faces = np.asarray(faces)\n",
        "    #faces = np.expand_dims(faces, -1)\n",
        "    emotions = (data['emotion'])#.values\n",
        "    return faces, emotions\n",
        " \n",
        "def preprocess_data(x):\n",
        "    x = x.astype('float32')\n",
        "    x = x / 255.0\n",
        "    return x"
      ],
      "execution_count": null,
      "outputs": []
    },
    {
      "cell_type": "code",
      "metadata": {
        "id": "F4hQq1xQ_NUm"
      },
      "source": [
        "#Data Augumentation\n",
        "data_generator = ImageDataGenerator(\n",
        "                        featurewise_center=False,\n",
        "                        featurewise_std_normalization=False,\n",
        "                        rotation_range=10,\n",
        "                        shear_range = 10,\n",
        "                        width_shift_range=0.1,\n",
        "                        height_shift_range=0.1,\n",
        "                        zoom_range=.1,\n",
        "                        horizontal_flip=True)\n",
        "\n",
        "faces, emotions = load_dataset()\n",
        "faces = preprocess_data(faces)\n",
        "Xtrain, Xtest, Ytrain, Ytest = train_test_split(faces, emotions,test_size=0.2,shuffle=True)"
      ],
      "execution_count": null,
      "outputs": []
    },
    {
      "cell_type": "code",
      "metadata": {
        "id": "gePIxAYKAkZK",
        "colab": {
          "base_uri": "https://localhost:8080/"
        },
        "outputId": "12999665-5385-4ac8-d526-988909437eb1"
      },
      "source": [
        "import tensorflow as tf\n",
        "\n",
        "base_model=tf.keras.applications.MobileNet()"
      ],
      "execution_count": null,
      "outputs": [
        {
          "output_type": "stream",
          "text": [
            "Downloading data from https://storage.googleapis.com/tensorflow/keras-applications/mobilenet/mobilenet_1_0_224_tf.h5\n",
            "17227776/17225924 [==============================] - 0s 0us/step\n"
          ],
          "name": "stdout"
        }
      ]
    },
    {
      "cell_type": "code",
      "metadata": {
        "colab": {
          "base_uri": "https://localhost:8080/"
        },
        "id": "pdUBKUxmAxW7",
        "outputId": "62119516-a5c9-4c98-8e1f-f8d66d0dddd4"
      },
      "source": [
        "base_model.summary()"
      ],
      "execution_count": null,
      "outputs": [
        {
          "output_type": "stream",
          "text": [
            "Model: \"mobilenet_1.00_224\"\n",
            "_________________________________________________________________\n",
            "Layer (type)                 Output Shape              Param #   \n",
            "=================================================================\n",
            "input_1 (InputLayer)         [(None, 224, 224, 3)]     0         \n",
            "_________________________________________________________________\n",
            "conv1 (Conv2D)               (None, 112, 112, 32)      864       \n",
            "_________________________________________________________________\n",
            "conv1_bn (BatchNormalization (None, 112, 112, 32)      128       \n",
            "_________________________________________________________________\n",
            "conv1_relu (ReLU)            (None, 112, 112, 32)      0         \n",
            "_________________________________________________________________\n",
            "conv_dw_1 (DepthwiseConv2D)  (None, 112, 112, 32)      288       \n",
            "_________________________________________________________________\n",
            "conv_dw_1_bn (BatchNormaliza (None, 112, 112, 32)      128       \n",
            "_________________________________________________________________\n",
            "conv_dw_1_relu (ReLU)        (None, 112, 112, 32)      0         \n",
            "_________________________________________________________________\n",
            "conv_pw_1 (Conv2D)           (None, 112, 112, 64)      2048      \n",
            "_________________________________________________________________\n",
            "conv_pw_1_bn (BatchNormaliza (None, 112, 112, 64)      256       \n",
            "_________________________________________________________________\n",
            "conv_pw_1_relu (ReLU)        (None, 112, 112, 64)      0         \n",
            "_________________________________________________________________\n",
            "conv_pad_2 (ZeroPadding2D)   (None, 113, 113, 64)      0         \n",
            "_________________________________________________________________\n",
            "conv_dw_2 (DepthwiseConv2D)  (None, 56, 56, 64)        576       \n",
            "_________________________________________________________________\n",
            "conv_dw_2_bn (BatchNormaliza (None, 56, 56, 64)        256       \n",
            "_________________________________________________________________\n",
            "conv_dw_2_relu (ReLU)        (None, 56, 56, 64)        0         \n",
            "_________________________________________________________________\n",
            "conv_pw_2 (Conv2D)           (None, 56, 56, 128)       8192      \n",
            "_________________________________________________________________\n",
            "conv_pw_2_bn (BatchNormaliza (None, 56, 56, 128)       512       \n",
            "_________________________________________________________________\n",
            "conv_pw_2_relu (ReLU)        (None, 56, 56, 128)       0         \n",
            "_________________________________________________________________\n",
            "conv_dw_3 (DepthwiseConv2D)  (None, 56, 56, 128)       1152      \n",
            "_________________________________________________________________\n",
            "conv_dw_3_bn (BatchNormaliza (None, 56, 56, 128)       512       \n",
            "_________________________________________________________________\n",
            "conv_dw_3_relu (ReLU)        (None, 56, 56, 128)       0         \n",
            "_________________________________________________________________\n",
            "conv_pw_3 (Conv2D)           (None, 56, 56, 128)       16384     \n",
            "_________________________________________________________________\n",
            "conv_pw_3_bn (BatchNormaliza (None, 56, 56, 128)       512       \n",
            "_________________________________________________________________\n",
            "conv_pw_3_relu (ReLU)        (None, 56, 56, 128)       0         \n",
            "_________________________________________________________________\n",
            "conv_pad_4 (ZeroPadding2D)   (None, 57, 57, 128)       0         \n",
            "_________________________________________________________________\n",
            "conv_dw_4 (DepthwiseConv2D)  (None, 28, 28, 128)       1152      \n",
            "_________________________________________________________________\n",
            "conv_dw_4_bn (BatchNormaliza (None, 28, 28, 128)       512       \n",
            "_________________________________________________________________\n",
            "conv_dw_4_relu (ReLU)        (None, 28, 28, 128)       0         \n",
            "_________________________________________________________________\n",
            "conv_pw_4 (Conv2D)           (None, 28, 28, 256)       32768     \n",
            "_________________________________________________________________\n",
            "conv_pw_4_bn (BatchNormaliza (None, 28, 28, 256)       1024      \n",
            "_________________________________________________________________\n",
            "conv_pw_4_relu (ReLU)        (None, 28, 28, 256)       0         \n",
            "_________________________________________________________________\n",
            "conv_dw_5 (DepthwiseConv2D)  (None, 28, 28, 256)       2304      \n",
            "_________________________________________________________________\n",
            "conv_dw_5_bn (BatchNormaliza (None, 28, 28, 256)       1024      \n",
            "_________________________________________________________________\n",
            "conv_dw_5_relu (ReLU)        (None, 28, 28, 256)       0         \n",
            "_________________________________________________________________\n",
            "conv_pw_5 (Conv2D)           (None, 28, 28, 256)       65536     \n",
            "_________________________________________________________________\n",
            "conv_pw_5_bn (BatchNormaliza (None, 28, 28, 256)       1024      \n",
            "_________________________________________________________________\n",
            "conv_pw_5_relu (ReLU)        (None, 28, 28, 256)       0         \n",
            "_________________________________________________________________\n",
            "conv_pad_6 (ZeroPadding2D)   (None, 29, 29, 256)       0         \n",
            "_________________________________________________________________\n",
            "conv_dw_6 (DepthwiseConv2D)  (None, 14, 14, 256)       2304      \n",
            "_________________________________________________________________\n",
            "conv_dw_6_bn (BatchNormaliza (None, 14, 14, 256)       1024      \n",
            "_________________________________________________________________\n",
            "conv_dw_6_relu (ReLU)        (None, 14, 14, 256)       0         \n",
            "_________________________________________________________________\n",
            "conv_pw_6 (Conv2D)           (None, 14, 14, 512)       131072    \n",
            "_________________________________________________________________\n",
            "conv_pw_6_bn (BatchNormaliza (None, 14, 14, 512)       2048      \n",
            "_________________________________________________________________\n",
            "conv_pw_6_relu (ReLU)        (None, 14, 14, 512)       0         \n",
            "_________________________________________________________________\n",
            "conv_dw_7 (DepthwiseConv2D)  (None, 14, 14, 512)       4608      \n",
            "_________________________________________________________________\n",
            "conv_dw_7_bn (BatchNormaliza (None, 14, 14, 512)       2048      \n",
            "_________________________________________________________________\n",
            "conv_dw_7_relu (ReLU)        (None, 14, 14, 512)       0         \n",
            "_________________________________________________________________\n",
            "conv_pw_7 (Conv2D)           (None, 14, 14, 512)       262144    \n",
            "_________________________________________________________________\n",
            "conv_pw_7_bn (BatchNormaliza (None, 14, 14, 512)       2048      \n",
            "_________________________________________________________________\n",
            "conv_pw_7_relu (ReLU)        (None, 14, 14, 512)       0         \n",
            "_________________________________________________________________\n",
            "conv_dw_8 (DepthwiseConv2D)  (None, 14, 14, 512)       4608      \n",
            "_________________________________________________________________\n",
            "conv_dw_8_bn (BatchNormaliza (None, 14, 14, 512)       2048      \n",
            "_________________________________________________________________\n",
            "conv_dw_8_relu (ReLU)        (None, 14, 14, 512)       0         \n",
            "_________________________________________________________________\n",
            "conv_pw_8 (Conv2D)           (None, 14, 14, 512)       262144    \n",
            "_________________________________________________________________\n",
            "conv_pw_8_bn (BatchNormaliza (None, 14, 14, 512)       2048      \n",
            "_________________________________________________________________\n",
            "conv_pw_8_relu (ReLU)        (None, 14, 14, 512)       0         \n",
            "_________________________________________________________________\n",
            "conv_dw_9 (DepthwiseConv2D)  (None, 14, 14, 512)       4608      \n",
            "_________________________________________________________________\n",
            "conv_dw_9_bn (BatchNormaliza (None, 14, 14, 512)       2048      \n",
            "_________________________________________________________________\n",
            "conv_dw_9_relu (ReLU)        (None, 14, 14, 512)       0         \n",
            "_________________________________________________________________\n",
            "conv_pw_9 (Conv2D)           (None, 14, 14, 512)       262144    \n",
            "_________________________________________________________________\n",
            "conv_pw_9_bn (BatchNormaliza (None, 14, 14, 512)       2048      \n",
            "_________________________________________________________________\n",
            "conv_pw_9_relu (ReLU)        (None, 14, 14, 512)       0         \n",
            "_________________________________________________________________\n",
            "conv_dw_10 (DepthwiseConv2D) (None, 14, 14, 512)       4608      \n",
            "_________________________________________________________________\n",
            "conv_dw_10_bn (BatchNormaliz (None, 14, 14, 512)       2048      \n",
            "_________________________________________________________________\n",
            "conv_dw_10_relu (ReLU)       (None, 14, 14, 512)       0         \n",
            "_________________________________________________________________\n",
            "conv_pw_10 (Conv2D)          (None, 14, 14, 512)       262144    \n",
            "_________________________________________________________________\n",
            "conv_pw_10_bn (BatchNormaliz (None, 14, 14, 512)       2048      \n",
            "_________________________________________________________________\n",
            "conv_pw_10_relu (ReLU)       (None, 14, 14, 512)       0         \n",
            "_________________________________________________________________\n",
            "conv_dw_11 (DepthwiseConv2D) (None, 14, 14, 512)       4608      \n",
            "_________________________________________________________________\n",
            "conv_dw_11_bn (BatchNormaliz (None, 14, 14, 512)       2048      \n",
            "_________________________________________________________________\n",
            "conv_dw_11_relu (ReLU)       (None, 14, 14, 512)       0         \n",
            "_________________________________________________________________\n",
            "conv_pw_11 (Conv2D)          (None, 14, 14, 512)       262144    \n",
            "_________________________________________________________________\n",
            "conv_pw_11_bn (BatchNormaliz (None, 14, 14, 512)       2048      \n",
            "_________________________________________________________________\n",
            "conv_pw_11_relu (ReLU)       (None, 14, 14, 512)       0         \n",
            "_________________________________________________________________\n",
            "conv_pad_12 (ZeroPadding2D)  (None, 15, 15, 512)       0         \n",
            "_________________________________________________________________\n",
            "conv_dw_12 (DepthwiseConv2D) (None, 7, 7, 512)         4608      \n",
            "_________________________________________________________________\n",
            "conv_dw_12_bn (BatchNormaliz (None, 7, 7, 512)         2048      \n",
            "_________________________________________________________________\n",
            "conv_dw_12_relu (ReLU)       (None, 7, 7, 512)         0         \n",
            "_________________________________________________________________\n",
            "conv_pw_12 (Conv2D)          (None, 7, 7, 1024)        524288    \n",
            "_________________________________________________________________\n",
            "conv_pw_12_bn (BatchNormaliz (None, 7, 7, 1024)        4096      \n",
            "_________________________________________________________________\n",
            "conv_pw_12_relu (ReLU)       (None, 7, 7, 1024)        0         \n",
            "_________________________________________________________________\n",
            "conv_dw_13 (DepthwiseConv2D) (None, 7, 7, 1024)        9216      \n",
            "_________________________________________________________________\n",
            "conv_dw_13_bn (BatchNormaliz (None, 7, 7, 1024)        4096      \n",
            "_________________________________________________________________\n",
            "conv_dw_13_relu (ReLU)       (None, 7, 7, 1024)        0         \n",
            "_________________________________________________________________\n",
            "conv_pw_13 (Conv2D)          (None, 7, 7, 1024)        1048576   \n",
            "_________________________________________________________________\n",
            "conv_pw_13_bn (BatchNormaliz (None, 7, 7, 1024)        4096      \n",
            "_________________________________________________________________\n",
            "conv_pw_13_relu (ReLU)       (None, 7, 7, 1024)        0         \n",
            "_________________________________________________________________\n",
            "global_average_pooling2d (Gl (None, 1024)              0         \n",
            "_________________________________________________________________\n",
            "reshape_1 (Reshape)          (None, 1, 1, 1024)        0         \n",
            "_________________________________________________________________\n",
            "dropout (Dropout)            (None, 1, 1, 1024)        0         \n",
            "_________________________________________________________________\n",
            "conv_preds (Conv2D)          (None, 1, 1, 1000)        1025000   \n",
            "_________________________________________________________________\n",
            "reshape_2 (Reshape)          (None, 1000)              0         \n",
            "_________________________________________________________________\n",
            "predictions (Activation)     (None, 1000)              0         \n",
            "=================================================================\n",
            "Total params: 4,253,864\n",
            "Trainable params: 4,231,976\n",
            "Non-trainable params: 21,888\n",
            "_________________________________________________________________\n"
          ],
          "name": "stdout"
        }
      ]
    },
    {
      "cell_type": "code",
      "metadata": {
        "id": "E4i3iyO7A6qx",
        "colab": {
          "base_uri": "https://localhost:8080/"
        },
        "outputId": "b592c2e6-4fce-4925-fa1c-177cecd5ffeb"
      },
      "source": [
        "base_model=tf.keras.applications.MobileNet(input_shape=(128,128,3),include_top=False)"
      ],
      "execution_count": null,
      "outputs": [
        {
          "output_type": "stream",
          "text": [
            "Downloading data from https://storage.googleapis.com/tensorflow/keras-applications/mobilenet/mobilenet_1_0_128_tf_no_top.h5\n",
            "17227776/17225924 [==============================] - 0s 0us/step\n"
          ],
          "name": "stdout"
        }
      ]
    },
    {
      "cell_type": "code",
      "metadata": {
        "colab": {
          "base_uri": "https://localhost:8080/"
        },
        "id": "qUGSqSs2BGWh",
        "outputId": "6b9e84e9-aebd-42fb-ccab-96144b1d0edd"
      },
      "source": [
        "base_model.trainable=False\n",
        "base_model.summary()"
      ],
      "execution_count": null,
      "outputs": [
        {
          "output_type": "stream",
          "text": [
            "Model: \"mobilenet_1.00_128\"\n",
            "_________________________________________________________________\n",
            "Layer (type)                 Output Shape              Param #   \n",
            "=================================================================\n",
            "input_2 (InputLayer)         [(None, 128, 128, 3)]     0         \n",
            "_________________________________________________________________\n",
            "conv1 (Conv2D)               (None, 64, 64, 32)        864       \n",
            "_________________________________________________________________\n",
            "conv1_bn (BatchNormalization (None, 64, 64, 32)        128       \n",
            "_________________________________________________________________\n",
            "conv1_relu (ReLU)            (None, 64, 64, 32)        0         \n",
            "_________________________________________________________________\n",
            "conv_dw_1 (DepthwiseConv2D)  (None, 64, 64, 32)        288       \n",
            "_________________________________________________________________\n",
            "conv_dw_1_bn (BatchNormaliza (None, 64, 64, 32)        128       \n",
            "_________________________________________________________________\n",
            "conv_dw_1_relu (ReLU)        (None, 64, 64, 32)        0         \n",
            "_________________________________________________________________\n",
            "conv_pw_1 (Conv2D)           (None, 64, 64, 64)        2048      \n",
            "_________________________________________________________________\n",
            "conv_pw_1_bn (BatchNormaliza (None, 64, 64, 64)        256       \n",
            "_________________________________________________________________\n",
            "conv_pw_1_relu (ReLU)        (None, 64, 64, 64)        0         \n",
            "_________________________________________________________________\n",
            "conv_pad_2 (ZeroPadding2D)   (None, 65, 65, 64)        0         \n",
            "_________________________________________________________________\n",
            "conv_dw_2 (DepthwiseConv2D)  (None, 32, 32, 64)        576       \n",
            "_________________________________________________________________\n",
            "conv_dw_2_bn (BatchNormaliza (None, 32, 32, 64)        256       \n",
            "_________________________________________________________________\n",
            "conv_dw_2_relu (ReLU)        (None, 32, 32, 64)        0         \n",
            "_________________________________________________________________\n",
            "conv_pw_2 (Conv2D)           (None, 32, 32, 128)       8192      \n",
            "_________________________________________________________________\n",
            "conv_pw_2_bn (BatchNormaliza (None, 32, 32, 128)       512       \n",
            "_________________________________________________________________\n",
            "conv_pw_2_relu (ReLU)        (None, 32, 32, 128)       0         \n",
            "_________________________________________________________________\n",
            "conv_dw_3 (DepthwiseConv2D)  (None, 32, 32, 128)       1152      \n",
            "_________________________________________________________________\n",
            "conv_dw_3_bn (BatchNormaliza (None, 32, 32, 128)       512       \n",
            "_________________________________________________________________\n",
            "conv_dw_3_relu (ReLU)        (None, 32, 32, 128)       0         \n",
            "_________________________________________________________________\n",
            "conv_pw_3 (Conv2D)           (None, 32, 32, 128)       16384     \n",
            "_________________________________________________________________\n",
            "conv_pw_3_bn (BatchNormaliza (None, 32, 32, 128)       512       \n",
            "_________________________________________________________________\n",
            "conv_pw_3_relu (ReLU)        (None, 32, 32, 128)       0         \n",
            "_________________________________________________________________\n",
            "conv_pad_4 (ZeroPadding2D)   (None, 33, 33, 128)       0         \n",
            "_________________________________________________________________\n",
            "conv_dw_4 (DepthwiseConv2D)  (None, 16, 16, 128)       1152      \n",
            "_________________________________________________________________\n",
            "conv_dw_4_bn (BatchNormaliza (None, 16, 16, 128)       512       \n",
            "_________________________________________________________________\n",
            "conv_dw_4_relu (ReLU)        (None, 16, 16, 128)       0         \n",
            "_________________________________________________________________\n",
            "conv_pw_4 (Conv2D)           (None, 16, 16, 256)       32768     \n",
            "_________________________________________________________________\n",
            "conv_pw_4_bn (BatchNormaliza (None, 16, 16, 256)       1024      \n",
            "_________________________________________________________________\n",
            "conv_pw_4_relu (ReLU)        (None, 16, 16, 256)       0         \n",
            "_________________________________________________________________\n",
            "conv_dw_5 (DepthwiseConv2D)  (None, 16, 16, 256)       2304      \n",
            "_________________________________________________________________\n",
            "conv_dw_5_bn (BatchNormaliza (None, 16, 16, 256)       1024      \n",
            "_________________________________________________________________\n",
            "conv_dw_5_relu (ReLU)        (None, 16, 16, 256)       0         \n",
            "_________________________________________________________________\n",
            "conv_pw_5 (Conv2D)           (None, 16, 16, 256)       65536     \n",
            "_________________________________________________________________\n",
            "conv_pw_5_bn (BatchNormaliza (None, 16, 16, 256)       1024      \n",
            "_________________________________________________________________\n",
            "conv_pw_5_relu (ReLU)        (None, 16, 16, 256)       0         \n",
            "_________________________________________________________________\n",
            "conv_pad_6 (ZeroPadding2D)   (None, 17, 17, 256)       0         \n",
            "_________________________________________________________________\n",
            "conv_dw_6 (DepthwiseConv2D)  (None, 8, 8, 256)         2304      \n",
            "_________________________________________________________________\n",
            "conv_dw_6_bn (BatchNormaliza (None, 8, 8, 256)         1024      \n",
            "_________________________________________________________________\n",
            "conv_dw_6_relu (ReLU)        (None, 8, 8, 256)         0         \n",
            "_________________________________________________________________\n",
            "conv_pw_6 (Conv2D)           (None, 8, 8, 512)         131072    \n",
            "_________________________________________________________________\n",
            "conv_pw_6_bn (BatchNormaliza (None, 8, 8, 512)         2048      \n",
            "_________________________________________________________________\n",
            "conv_pw_6_relu (ReLU)        (None, 8, 8, 512)         0         \n",
            "_________________________________________________________________\n",
            "conv_dw_7 (DepthwiseConv2D)  (None, 8, 8, 512)         4608      \n",
            "_________________________________________________________________\n",
            "conv_dw_7_bn (BatchNormaliza (None, 8, 8, 512)         2048      \n",
            "_________________________________________________________________\n",
            "conv_dw_7_relu (ReLU)        (None, 8, 8, 512)         0         \n",
            "_________________________________________________________________\n",
            "conv_pw_7 (Conv2D)           (None, 8, 8, 512)         262144    \n",
            "_________________________________________________________________\n",
            "conv_pw_7_bn (BatchNormaliza (None, 8, 8, 512)         2048      \n",
            "_________________________________________________________________\n",
            "conv_pw_7_relu (ReLU)        (None, 8, 8, 512)         0         \n",
            "_________________________________________________________________\n",
            "conv_dw_8 (DepthwiseConv2D)  (None, 8, 8, 512)         4608      \n",
            "_________________________________________________________________\n",
            "conv_dw_8_bn (BatchNormaliza (None, 8, 8, 512)         2048      \n",
            "_________________________________________________________________\n",
            "conv_dw_8_relu (ReLU)        (None, 8, 8, 512)         0         \n",
            "_________________________________________________________________\n",
            "conv_pw_8 (Conv2D)           (None, 8, 8, 512)         262144    \n",
            "_________________________________________________________________\n",
            "conv_pw_8_bn (BatchNormaliza (None, 8, 8, 512)         2048      \n",
            "_________________________________________________________________\n",
            "conv_pw_8_relu (ReLU)        (None, 8, 8, 512)         0         \n",
            "_________________________________________________________________\n",
            "conv_dw_9 (DepthwiseConv2D)  (None, 8, 8, 512)         4608      \n",
            "_________________________________________________________________\n",
            "conv_dw_9_bn (BatchNormaliza (None, 8, 8, 512)         2048      \n",
            "_________________________________________________________________\n",
            "conv_dw_9_relu (ReLU)        (None, 8, 8, 512)         0         \n",
            "_________________________________________________________________\n",
            "conv_pw_9 (Conv2D)           (None, 8, 8, 512)         262144    \n",
            "_________________________________________________________________\n",
            "conv_pw_9_bn (BatchNormaliza (None, 8, 8, 512)         2048      \n",
            "_________________________________________________________________\n",
            "conv_pw_9_relu (ReLU)        (None, 8, 8, 512)         0         \n",
            "_________________________________________________________________\n",
            "conv_dw_10 (DepthwiseConv2D) (None, 8, 8, 512)         4608      \n",
            "_________________________________________________________________\n",
            "conv_dw_10_bn (BatchNormaliz (None, 8, 8, 512)         2048      \n",
            "_________________________________________________________________\n",
            "conv_dw_10_relu (ReLU)       (None, 8, 8, 512)         0         \n",
            "_________________________________________________________________\n",
            "conv_pw_10 (Conv2D)          (None, 8, 8, 512)         262144    \n",
            "_________________________________________________________________\n",
            "conv_pw_10_bn (BatchNormaliz (None, 8, 8, 512)         2048      \n",
            "_________________________________________________________________\n",
            "conv_pw_10_relu (ReLU)       (None, 8, 8, 512)         0         \n",
            "_________________________________________________________________\n",
            "conv_dw_11 (DepthwiseConv2D) (None, 8, 8, 512)         4608      \n",
            "_________________________________________________________________\n",
            "conv_dw_11_bn (BatchNormaliz (None, 8, 8, 512)         2048      \n",
            "_________________________________________________________________\n",
            "conv_dw_11_relu (ReLU)       (None, 8, 8, 512)         0         \n",
            "_________________________________________________________________\n",
            "conv_pw_11 (Conv2D)          (None, 8, 8, 512)         262144    \n",
            "_________________________________________________________________\n",
            "conv_pw_11_bn (BatchNormaliz (None, 8, 8, 512)         2048      \n",
            "_________________________________________________________________\n",
            "conv_pw_11_relu (ReLU)       (None, 8, 8, 512)         0         \n",
            "_________________________________________________________________\n",
            "conv_pad_12 (ZeroPadding2D)  (None, 9, 9, 512)         0         \n",
            "_________________________________________________________________\n",
            "conv_dw_12 (DepthwiseConv2D) (None, 4, 4, 512)         4608      \n",
            "_________________________________________________________________\n",
            "conv_dw_12_bn (BatchNormaliz (None, 4, 4, 512)         2048      \n",
            "_________________________________________________________________\n",
            "conv_dw_12_relu (ReLU)       (None, 4, 4, 512)         0         \n",
            "_________________________________________________________________\n",
            "conv_pw_12 (Conv2D)          (None, 4, 4, 1024)        524288    \n",
            "_________________________________________________________________\n",
            "conv_pw_12_bn (BatchNormaliz (None, 4, 4, 1024)        4096      \n",
            "_________________________________________________________________\n",
            "conv_pw_12_relu (ReLU)       (None, 4, 4, 1024)        0         \n",
            "_________________________________________________________________\n",
            "conv_dw_13 (DepthwiseConv2D) (None, 4, 4, 1024)        9216      \n",
            "_________________________________________________________________\n",
            "conv_dw_13_bn (BatchNormaliz (None, 4, 4, 1024)        4096      \n",
            "_________________________________________________________________\n",
            "conv_dw_13_relu (ReLU)       (None, 4, 4, 1024)        0         \n",
            "_________________________________________________________________\n",
            "conv_pw_13 (Conv2D)          (None, 4, 4, 1024)        1048576   \n",
            "_________________________________________________________________\n",
            "conv_pw_13_bn (BatchNormaliz (None, 4, 4, 1024)        4096      \n",
            "_________________________________________________________________\n",
            "conv_pw_13_relu (ReLU)       (None, 4, 4, 1024)        0         \n",
            "=================================================================\n",
            "Total params: 3,228,864\n",
            "Trainable params: 0\n",
            "Non-trainable params: 3,228,864\n",
            "_________________________________________________________________\n"
          ],
          "name": "stdout"
        }
      ]
    },
    {
      "cell_type": "code",
      "metadata": {
        "id": "axzjk7cvOUfl"
      },
      "source": [
        "transfer_model=Sequential([base_model,\n",
        "                          GlobalAveragePooling2D(),\n",
        "                          Dense(1024,activation='relu'),\n",
        "                          Dense(512,activation='relu'),\n",
        "                          Dense(128,activation='relu'),\n",
        "                          Dense(7,activation='softmax')])"
      ],
      "execution_count": null,
      "outputs": []
    },
    {
      "cell_type": "code",
      "metadata": {
        "id": "VKvXuMiQBlZw"
      },
      "source": [
        "transfer_model.compile(optimizer='adam',loss='categorical_crossentropy',metrics=['accuracy'])"
      ],
      "execution_count": null,
      "outputs": []
    },
    {
      "cell_type": "code",
      "metadata": {
        "colab": {
          "base_uri": "https://localhost:8080/"
        },
        "id": "03XILn2KBwyw",
        "outputId": "c8ce875f-37c5-46af-a8d3-227cf55312ab"
      },
      "source": [
        "from tensorflow.keras.utils import to_categorical\n",
        "batch_size = 64\n",
        "num_epochs = 100\n",
        "history = transfer_model.fit(data_generator.flow(Xtrain, to_categorical(Ytrain)), \n",
        "                    steps_per_epoch = int (len(Xtrain) / batch_size), \n",
        "                    epochs = num_epochs, \n",
        "                    validation_data = test_datagen.flow(Xtest, to_categorical(Ytest)), \n",
        "                    validation_steps = int (len(Xtest) / batch_size)\n",
        "                    )"
      ],
      "execution_count": null,
      "outputs": [
        {
          "output_type": "stream",
          "text": [
            "Epoch 1/100\n",
            "448/448 [==============================] - 44s 29ms/step - loss: 1.7473 - accuracy: 0.2979 - val_loss: 1.6804 - val_accuracy: 0.3354\n",
            "Epoch 2/100\n",
            "448/448 [==============================] - 13s 29ms/step - loss: 1.6938 - accuracy: 0.3267 - val_loss: 1.6687 - val_accuracy: 0.3393\n",
            "Epoch 3/100\n",
            "448/448 [==============================] - 13s 28ms/step - loss: 1.6826 - accuracy: 0.3313 - val_loss: 1.6527 - val_accuracy: 0.3616\n",
            "Epoch 4/100\n",
            "448/448 [==============================] - 13s 29ms/step - loss: 1.6725 - accuracy: 0.3364 - val_loss: 1.6552 - val_accuracy: 0.3477\n",
            "Epoch 5/100\n",
            "448/448 [==============================] - 13s 29ms/step - loss: 1.6646 - accuracy: 0.3384 - val_loss: 1.6465 - val_accuracy: 0.3488\n",
            "Epoch 6/100\n",
            "448/448 [==============================] - 13s 29ms/step - loss: 1.6550 - accuracy: 0.3428 - val_loss: 1.6552 - val_accuracy: 0.3583\n",
            "Epoch 7/100\n",
            "448/448 [==============================] - 13s 29ms/step - loss: 1.6413 - accuracy: 0.3493 - val_loss: 1.6610 - val_accuracy: 0.3563\n",
            "Epoch 8/100\n",
            "448/448 [==============================] - 13s 29ms/step - loss: 1.6324 - accuracy: 0.3535 - val_loss: 1.6324 - val_accuracy: 0.3633\n",
            "Epoch 9/100\n",
            "448/448 [==============================] - 13s 29ms/step - loss: 1.6344 - accuracy: 0.3579 - val_loss: 1.6559 - val_accuracy: 0.3569\n",
            "Epoch 10/100\n",
            "448/448 [==============================] - 13s 29ms/step - loss: 1.6257 - accuracy: 0.3616 - val_loss: 1.6270 - val_accuracy: 0.3689\n",
            "Epoch 11/100\n",
            "448/448 [==============================] - 13s 29ms/step - loss: 1.6321 - accuracy: 0.3611 - val_loss: 1.6686 - val_accuracy: 0.3574\n",
            "Epoch 12/100\n",
            "448/448 [==============================] - 13s 29ms/step - loss: 1.6177 - accuracy: 0.3594 - val_loss: 1.6203 - val_accuracy: 0.3627\n",
            "Epoch 13/100\n",
            "448/448 [==============================] - 13s 29ms/step - loss: 1.6118 - accuracy: 0.3702 - val_loss: 1.6424 - val_accuracy: 0.3647\n",
            "Epoch 14/100\n",
            "448/448 [==============================] - 13s 29ms/step - loss: 1.6141 - accuracy: 0.3676 - val_loss: 1.6369 - val_accuracy: 0.3602\n",
            "Epoch 15/100\n",
            "448/448 [==============================] - 13s 28ms/step - loss: 1.6107 - accuracy: 0.3636 - val_loss: 1.6279 - val_accuracy: 0.3733\n",
            "Epoch 16/100\n",
            "448/448 [==============================] - 13s 28ms/step - loss: 1.6035 - accuracy: 0.3706 - val_loss: 1.6195 - val_accuracy: 0.3778\n",
            "Epoch 17/100\n",
            "448/448 [==============================] - 13s 29ms/step - loss: 1.5939 - accuracy: 0.3692 - val_loss: 1.6290 - val_accuracy: 0.3728\n",
            "Epoch 18/100\n",
            "448/448 [==============================] - 13s 29ms/step - loss: 1.5989 - accuracy: 0.3719 - val_loss: 1.6377 - val_accuracy: 0.3636\n",
            "Epoch 19/100\n",
            "448/448 [==============================] - 13s 29ms/step - loss: 1.5800 - accuracy: 0.3789 - val_loss: 1.6544 - val_accuracy: 0.3683\n",
            "Epoch 20/100\n",
            "448/448 [==============================] - 13s 29ms/step - loss: 1.5903 - accuracy: 0.3762 - val_loss: 1.6352 - val_accuracy: 0.3739\n",
            "Epoch 21/100\n",
            "448/448 [==============================] - 13s 29ms/step - loss: 1.5765 - accuracy: 0.3833 - val_loss: 1.6618 - val_accuracy: 0.3622\n",
            "Epoch 22/100\n",
            "448/448 [==============================] - 13s 28ms/step - loss: 1.5790 - accuracy: 0.3787 - val_loss: 1.6425 - val_accuracy: 0.3669\n",
            "Epoch 23/100\n",
            "448/448 [==============================] - 13s 29ms/step - loss: 1.5733 - accuracy: 0.3813 - val_loss: 1.6341 - val_accuracy: 0.3686\n",
            "Epoch 24/100\n",
            "448/448 [==============================] - 13s 29ms/step - loss: 1.5721 - accuracy: 0.3808 - val_loss: 1.6225 - val_accuracy: 0.3792\n",
            "Epoch 25/100\n",
            "448/448 [==============================] - 13s 29ms/step - loss: 1.5690 - accuracy: 0.3848 - val_loss: 1.6659 - val_accuracy: 0.3669\n",
            "Epoch 26/100\n",
            "448/448 [==============================] - 13s 29ms/step - loss: 1.5704 - accuracy: 0.3861 - val_loss: 1.6312 - val_accuracy: 0.3722\n",
            "Epoch 27/100\n",
            "448/448 [==============================] - 13s 29ms/step - loss: 1.5655 - accuracy: 0.3854 - val_loss: 1.6331 - val_accuracy: 0.3675\n",
            "Epoch 28/100\n",
            "448/448 [==============================] - 13s 29ms/step - loss: 1.5643 - accuracy: 0.3842 - val_loss: 1.6551 - val_accuracy: 0.3711\n",
            "Epoch 29/100\n",
            "448/448 [==============================] - 13s 29ms/step - loss: 1.5672 - accuracy: 0.3877 - val_loss: 1.6234 - val_accuracy: 0.3675\n",
            "Epoch 30/100\n",
            "448/448 [==============================] - 13s 29ms/step - loss: 1.5628 - accuracy: 0.3894 - val_loss: 1.6535 - val_accuracy: 0.3761\n",
            "Epoch 31/100\n",
            "448/448 [==============================] - 13s 29ms/step - loss: 1.5566 - accuracy: 0.3960 - val_loss: 1.6388 - val_accuracy: 0.3767\n",
            "Epoch 32/100\n",
            "448/448 [==============================] - 13s 28ms/step - loss: 1.5540 - accuracy: 0.3923 - val_loss: 1.6705 - val_accuracy: 0.3714\n",
            "Epoch 33/100\n",
            "448/448 [==============================] - 13s 29ms/step - loss: 1.5489 - accuracy: 0.3908 - val_loss: 1.6582 - val_accuracy: 0.3758\n",
            "Epoch 34/100\n",
            "448/448 [==============================] - 13s 29ms/step - loss: 1.5611 - accuracy: 0.3888 - val_loss: 1.6360 - val_accuracy: 0.3705\n",
            "Epoch 35/100\n",
            "448/448 [==============================] - 13s 29ms/step - loss: 1.5465 - accuracy: 0.3963 - val_loss: 1.6016 - val_accuracy: 0.3920\n",
            "Epoch 36/100\n",
            "448/448 [==============================] - 13s 29ms/step - loss: 1.5501 - accuracy: 0.3939 - val_loss: 1.6226 - val_accuracy: 0.3859\n",
            "Epoch 37/100\n",
            "448/448 [==============================] - 13s 29ms/step - loss: 1.5421 - accuracy: 0.4007 - val_loss: 1.6327 - val_accuracy: 0.3873\n",
            "Epoch 38/100\n",
            "448/448 [==============================] - 13s 30ms/step - loss: 1.5298 - accuracy: 0.4026 - val_loss: 1.6529 - val_accuracy: 0.3711\n",
            "Epoch 39/100\n",
            "448/448 [==============================] - 14s 31ms/step - loss: 1.5424 - accuracy: 0.3975 - val_loss: 1.6426 - val_accuracy: 0.3789\n",
            "Epoch 40/100\n",
            "448/448 [==============================] - 13s 30ms/step - loss: 1.5417 - accuracy: 0.3950 - val_loss: 1.6552 - val_accuracy: 0.3831\n",
            "Epoch 41/100\n",
            "448/448 [==============================] - 13s 29ms/step - loss: 1.5430 - accuracy: 0.4028 - val_loss: 1.6335 - val_accuracy: 0.3803\n",
            "Epoch 42/100\n",
            "448/448 [==============================] - 13s 29ms/step - loss: 1.5327 - accuracy: 0.4022 - val_loss: 1.6334 - val_accuracy: 0.3915\n",
            "Epoch 43/100\n",
            "448/448 [==============================] - 13s 29ms/step - loss: 1.5328 - accuracy: 0.4044 - val_loss: 1.6409 - val_accuracy: 0.3803\n",
            "Epoch 44/100\n",
            "448/448 [==============================] - 13s 29ms/step - loss: 1.5243 - accuracy: 0.4042 - val_loss: 1.6303 - val_accuracy: 0.3876\n",
            "Epoch 45/100\n",
            "448/448 [==============================] - 13s 29ms/step - loss: 1.5264 - accuracy: 0.4030 - val_loss: 1.6682 - val_accuracy: 0.3691\n",
            "Epoch 46/100\n",
            "448/448 [==============================] - 13s 29ms/step - loss: 1.5149 - accuracy: 0.4122 - val_loss: 1.6377 - val_accuracy: 0.3915\n",
            "Epoch 47/100\n",
            "448/448 [==============================] - 13s 29ms/step - loss: 1.5311 - accuracy: 0.4017 - val_loss: 1.6469 - val_accuracy: 0.3792\n",
            "Epoch 48/100\n",
            "448/448 [==============================] - 13s 29ms/step - loss: 1.5235 - accuracy: 0.4018 - val_loss: 1.6643 - val_accuracy: 0.3781\n",
            "Epoch 49/100\n",
            "448/448 [==============================] - 13s 29ms/step - loss: 1.5155 - accuracy: 0.4097 - val_loss: 1.6755 - val_accuracy: 0.3744\n",
            "Epoch 50/100\n",
            "448/448 [==============================] - 13s 29ms/step - loss: 1.5224 - accuracy: 0.4072 - val_loss: 1.6272 - val_accuracy: 0.3873\n",
            "Epoch 51/100\n",
            "448/448 [==============================] - 13s 29ms/step - loss: 1.5345 - accuracy: 0.4014 - val_loss: 1.6432 - val_accuracy: 0.3683\n",
            "Epoch 52/100\n",
            "448/448 [==============================] - 13s 29ms/step - loss: 1.5061 - accuracy: 0.4159 - val_loss: 1.6744 - val_accuracy: 0.3781\n",
            "Epoch 53/100\n",
            "448/448 [==============================] - 13s 29ms/step - loss: 1.5117 - accuracy: 0.4060 - val_loss: 1.6720 - val_accuracy: 0.3753\n",
            "Epoch 54/100\n",
            "448/448 [==============================] - 13s 28ms/step - loss: 1.5180 - accuracy: 0.4090 - val_loss: 1.6718 - val_accuracy: 0.3781\n",
            "Epoch 55/100\n",
            "448/448 [==============================] - 13s 29ms/step - loss: 1.5031 - accuracy: 0.4152 - val_loss: 1.6501 - val_accuracy: 0.3795\n",
            "Epoch 56/100\n",
            "448/448 [==============================] - 13s 29ms/step - loss: 1.5137 - accuracy: 0.4096 - val_loss: 1.6419 - val_accuracy: 0.3945\n",
            "Epoch 57/100\n",
            "448/448 [==============================] - 13s 29ms/step - loss: 1.5119 - accuracy: 0.4118 - val_loss: 1.6713 - val_accuracy: 0.3792\n",
            "Epoch 58/100\n",
            "448/448 [==============================] - 13s 29ms/step - loss: 1.5128 - accuracy: 0.4060 - val_loss: 1.6696 - val_accuracy: 0.3836\n",
            "Epoch 59/100\n",
            "448/448 [==============================] - 13s 30ms/step - loss: 1.5047 - accuracy: 0.4147 - val_loss: 1.6201 - val_accuracy: 0.3968\n",
            "Epoch 60/100\n",
            "448/448 [==============================] - 13s 29ms/step - loss: 1.5065 - accuracy: 0.4148 - val_loss: 1.6633 - val_accuracy: 0.3864\n",
            "Epoch 61/100\n",
            "448/448 [==============================] - 13s 29ms/step - loss: 1.5101 - accuracy: 0.4093 - val_loss: 1.6566 - val_accuracy: 0.3845\n",
            "Epoch 62/100\n",
            "448/448 [==============================] - 13s 29ms/step - loss: 1.5001 - accuracy: 0.4125 - val_loss: 1.6518 - val_accuracy: 0.3909\n",
            "Epoch 63/100\n",
            "448/448 [==============================] - 13s 29ms/step - loss: 1.5104 - accuracy: 0.4119 - val_loss: 1.6606 - val_accuracy: 0.3884\n",
            "Epoch 64/100\n",
            "448/448 [==============================] - 13s 29ms/step - loss: 1.5095 - accuracy: 0.4155 - val_loss: 1.6789 - val_accuracy: 0.3825\n",
            "Epoch 65/100\n",
            "448/448 [==============================] - 13s 29ms/step - loss: 1.4959 - accuracy: 0.4240 - val_loss: 1.6533 - val_accuracy: 0.3811\n",
            "Epoch 66/100\n",
            "448/448 [==============================] - 13s 29ms/step - loss: 1.4894 - accuracy: 0.4197 - val_loss: 1.6416 - val_accuracy: 0.3845\n",
            "Epoch 67/100\n",
            "448/448 [==============================] - 13s 29ms/step - loss: 1.5031 - accuracy: 0.4189 - val_loss: 1.6892 - val_accuracy: 0.3823\n",
            "Epoch 68/100\n",
            "448/448 [==============================] - 13s 29ms/step - loss: 1.4907 - accuracy: 0.4182 - val_loss: 1.6372 - val_accuracy: 0.3898\n",
            "Epoch 69/100\n",
            "448/448 [==============================] - 13s 29ms/step - loss: 1.4910 - accuracy: 0.4218 - val_loss: 1.6679 - val_accuracy: 0.3940\n",
            "Epoch 70/100\n",
            "448/448 [==============================] - 13s 29ms/step - loss: 1.4947 - accuracy: 0.4214 - val_loss: 1.6567 - val_accuracy: 0.3867\n",
            "Epoch 71/100\n",
            "448/448 [==============================] - 13s 29ms/step - loss: 1.4985 - accuracy: 0.4187 - val_loss: 1.6786 - val_accuracy: 0.3764\n",
            "Epoch 72/100\n",
            "448/448 [==============================] - 13s 29ms/step - loss: 1.4943 - accuracy: 0.4200 - val_loss: 1.7102 - val_accuracy: 0.3820\n",
            "Epoch 73/100\n",
            "448/448 [==============================] - 13s 29ms/step - loss: 1.4925 - accuracy: 0.4200 - val_loss: 1.6691 - val_accuracy: 0.3859\n",
            "Epoch 74/100\n",
            "448/448 [==============================] - 13s 29ms/step - loss: 1.4836 - accuracy: 0.4210 - val_loss: 1.6820 - val_accuracy: 0.3887\n",
            "Epoch 75/100\n",
            "448/448 [==============================] - 13s 29ms/step - loss: 1.4952 - accuracy: 0.4178 - val_loss: 1.6695 - val_accuracy: 0.3887\n",
            "Epoch 76/100\n",
            "448/448 [==============================] - 13s 29ms/step - loss: 1.4863 - accuracy: 0.4240 - val_loss: 1.6588 - val_accuracy: 0.3884\n",
            "Epoch 77/100\n",
            "448/448 [==============================] - 13s 29ms/step - loss: 1.4965 - accuracy: 0.4206 - val_loss: 1.6648 - val_accuracy: 0.3998\n",
            "Epoch 78/100\n",
            "448/448 [==============================] - 13s 29ms/step - loss: 1.4919 - accuracy: 0.4190 - val_loss: 1.6986 - val_accuracy: 0.3772\n",
            "Epoch 79/100\n",
            "448/448 [==============================] - 13s 29ms/step - loss: 1.4863 - accuracy: 0.4222 - val_loss: 1.7133 - val_accuracy: 0.3789\n",
            "Epoch 80/100\n",
            "448/448 [==============================] - 13s 29ms/step - loss: 1.4797 - accuracy: 0.4288 - val_loss: 1.6657 - val_accuracy: 0.3987\n",
            "Epoch 81/100\n",
            "448/448 [==============================] - 13s 29ms/step - loss: 1.4797 - accuracy: 0.4232 - val_loss: 1.6779 - val_accuracy: 0.3862\n",
            "Epoch 82/100\n",
            "448/448 [==============================] - 13s 28ms/step - loss: 1.4748 - accuracy: 0.4303 - val_loss: 1.6600 - val_accuracy: 0.3993\n",
            "Epoch 83/100\n",
            "448/448 [==============================] - 13s 29ms/step - loss: 1.4744 - accuracy: 0.4253 - val_loss: 1.6756 - val_accuracy: 0.3917\n",
            "Epoch 84/100\n",
            "448/448 [==============================] - 13s 29ms/step - loss: 1.4846 - accuracy: 0.4241 - val_loss: 1.6836 - val_accuracy: 0.3923\n",
            "Epoch 85/100\n",
            "448/448 [==============================] - 13s 29ms/step - loss: 1.4784 - accuracy: 0.4236 - val_loss: 1.6533 - val_accuracy: 0.3993\n",
            "Epoch 86/100\n",
            "448/448 [==============================] - 13s 29ms/step - loss: 1.4841 - accuracy: 0.4202 - val_loss: 1.6620 - val_accuracy: 0.3909\n",
            "Epoch 87/100\n",
            "448/448 [==============================] - 13s 29ms/step - loss: 1.4720 - accuracy: 0.4302 - val_loss: 1.6881 - val_accuracy: 0.3881\n",
            "Epoch 88/100\n",
            "448/448 [==============================] - 13s 29ms/step - loss: 1.4806 - accuracy: 0.4278 - val_loss: 1.6734 - val_accuracy: 0.3929\n",
            "Epoch 89/100\n",
            "448/448 [==============================] - 13s 29ms/step - loss: 1.4762 - accuracy: 0.4255 - val_loss: 1.6971 - val_accuracy: 0.3940\n",
            "Epoch 90/100\n",
            "448/448 [==============================] - 13s 29ms/step - loss: 1.4698 - accuracy: 0.4264 - val_loss: 1.6964 - val_accuracy: 0.3783\n",
            "Epoch 91/100\n",
            "448/448 [==============================] - 13s 29ms/step - loss: 1.4774 - accuracy: 0.4263 - val_loss: 1.6978 - val_accuracy: 0.3820\n",
            "Epoch 92/100\n",
            "448/448 [==============================] - 13s 29ms/step - loss: 1.4775 - accuracy: 0.4223 - val_loss: 1.7211 - val_accuracy: 0.3864\n",
            "Epoch 93/100\n",
            "448/448 [==============================] - 13s 29ms/step - loss: 1.4695 - accuracy: 0.4306 - val_loss: 1.7304 - val_accuracy: 0.3778\n",
            "Epoch 94/100\n",
            "448/448 [==============================] - 13s 29ms/step - loss: 1.4740 - accuracy: 0.4264 - val_loss: 1.6847 - val_accuracy: 0.3744\n",
            "Epoch 95/100\n",
            "448/448 [==============================] - 13s 29ms/step - loss: 1.4736 - accuracy: 0.4315 - val_loss: 1.6586 - val_accuracy: 0.3906\n",
            "Epoch 96/100\n",
            "448/448 [==============================] - 13s 29ms/step - loss: 1.4629 - accuracy: 0.4330 - val_loss: 1.6693 - val_accuracy: 0.3890\n",
            "Epoch 97/100\n",
            "448/448 [==============================] - 13s 29ms/step - loss: 1.4673 - accuracy: 0.4285 - val_loss: 1.6901 - val_accuracy: 0.3917\n",
            "Epoch 98/100\n",
            "448/448 [==============================] - 13s 29ms/step - loss: 1.4659 - accuracy: 0.4338 - val_loss: 1.6656 - val_accuracy: 0.3962\n",
            "Epoch 99/100\n",
            "448/448 [==============================] - 13s 29ms/step - loss: 1.4725 - accuracy: 0.4298 - val_loss: 1.6883 - val_accuracy: 0.3909\n",
            "Epoch 100/100\n",
            "448/448 [==============================] - 13s 30ms/step - loss: 1.4766 - accuracy: 0.4279 - val_loss: 1.6940 - val_accuracy: 0.3817\n"
          ],
          "name": "stdout"
        }
      ]
    },
    {
      "cell_type": "code",
      "metadata": {
        "colab": {
          "base_uri": "https://localhost:8080/",
          "height": 573
        },
        "id": "HIh4w-dPM6R4",
        "outputId": "994583db-6b2f-4210-8b24-3860e05ccbce"
      },
      "source": [
        "plt.plot(history.history['accuracy'])\n",
        "plt.plot(history.history['val_accuracy'])\n",
        "plt.title('Model Accuracy')\n",
        "plt.ylabel('Accuracy')\n",
        "plt.xlabel('Epoch')\n",
        "plt.legend(['train', 'val'], loc='upper left')\n",
        "plt.show()\n",
        "\n",
        "plt.plot(history.history['loss'])\n",
        "plt.plot(history.history['val_loss'])\n",
        "plt.title('Model Loss')\n",
        "plt.ylabel('loss')\n",
        "plt.xlabel('Epoch')\n",
        "plt.legend(['train', 'val'], loc='upper left')\n",
        "plt.show()"
      ],
      "execution_count": null,
      "outputs": [
        {
          "output_type": "display_data",
          "data": {
            "image/png": "[encoded data removed]",
            "text/plain": [
              "<Figure size 432x288 with 1 Axes>"
            ]
          },
          "metadata": {
            "tags": [],
            "needs_background": "light"
          }
        },
        {
          "output_type": "display_data",
          "data": {
            "image/png": "[encoded data removed]",
            "text/plain": [
              "<Figure size 432x288 with 1 Axes>"
            ]
          },
          "metadata": {
            "tags": [],
            "needs_background": "light"
          }
        }
      ]
    },
    {
      "cell_type": "code",
      "metadata": {
        "colab": {
          "base_uri": "https://localhost:8080/",
          "height": 204
        },
        "id": "20BvTJNYSNBA",
        "outputId": "794ba824-9c63-4be5-9a5c-d82027bff11d"
      },
      "source": [
        "pd.DataFrame(history.history).tail()"
      ],
      "execution_count": null,
      "outputs": [
        {
          "output_type": "execute_result",
          "data": {
            "text/html": [
              "<div>\n",
              "<style scoped>\n",
              "    .dataframe tbody tr th:only-of-type {\n",
              "        vertical-align: middle;\n",
              "    }\n",
              "\n",
              "    .dataframe tbody tr th {\n",
              "        vertical-align: top;\n",
              "    }\n",
              "\n",
              "    .dataframe thead th {\n",
              "        text-align: right;\n",
              "    }\n",
              "</style>\n",
              "<table border=\"1\" class=\"dataframe\">\n",
              "  <thead>\n",
              "    <tr style=\"text-align: right;\">\n",
              "      <th></th>\n",
              "      <th>loss</th>\n",
              "      <th>accuracy</th>\n",
              "      <th>val_loss</th>\n",
              "      <th>val_accuracy</th>\n",
              "    </tr>\n",
              "  </thead>\n",
              "  <tbody>\n",
              "    <tr>\n",
              "      <th>95</th>\n",
              "      <td>1.462947</td>\n",
              "      <td>0.433036</td>\n",
              "      <td>1.669257</td>\n",
              "      <td>0.388951</td>\n",
              "    </tr>\n",
              "    <tr>\n",
              "      <th>96</th>\n",
              "      <td>1.467250</td>\n",
              "      <td>0.428472</td>\n",
              "      <td>1.690127</td>\n",
              "      <td>0.391741</td>\n",
              "    </tr>\n",
              "    <tr>\n",
              "      <th>97</th>\n",
              "      <td>1.465930</td>\n",
              "      <td>0.433783</td>\n",
              "      <td>1.665558</td>\n",
              "      <td>0.396205</td>\n",
              "    </tr>\n",
              "    <tr>\n",
              "      <th>98</th>\n",
              "      <td>1.472489</td>\n",
              "      <td>0.429799</td>\n",
              "      <td>1.688302</td>\n",
              "      <td>0.390904</td>\n",
              "    </tr>\n",
              "    <tr>\n",
              "      <th>99</th>\n",
              "      <td>1.476626</td>\n",
              "      <td>0.427944</td>\n",
              "      <td>1.693974</td>\n",
              "      <td>0.381696</td>\n",
              "    </tr>\n",
              "  </tbody>\n",
              "</table>\n",
              "</div>"
            ],
            "text/plain": [
              "        loss  accuracy  val_loss  val_accuracy\n",
              "95  1.462947  0.433036  1.669257      0.388951\n",
              "96  1.467250  0.428472  1.690127      0.391741\n",
              "97  1.465930  0.433783  1.665558      0.396205\n",
              "98  1.472489  0.429799  1.688302      0.390904\n",
              "99  1.476626  0.427944  1.693974      0.381696"
            ]
          },
          "metadata": {
            "tags": []
          },
          "execution_count": 20
        }
      ]
    },
    {
      "cell_type": "code",
      "metadata": {
        "id": "nMu8wswwlt-i"
      },
      "source": [
        "import cv2\n"
      ],
      "execution_count": null,
      "outputs": []
    },
    {
      "cell_type": "code",
      "metadata": {
        "id": "_qobAcWrl-P6"
      },
      "source": [
        "#img_array_expanded_dims = np.expand_dims(img_array, axis=0)\n",
        "img_pp=tf.keras.applications.mobilenet.preprocess_input(Xtest)"
      ],
      "execution_count": null,
      "outputs": []
    },
    {
      "cell_type": "code",
      "metadata": {
        "colab": {
          "base_uri": "https://localhost:8080/"
        },
        "id": "NOwIQKCAn9mT",
        "outputId": "df163f1b-192c-4b1e-b36e-408e4c4ae388"
      },
      "source": [
        "Xtrain.shape"
      ],
      "execution_count": null,
      "outputs": [
        {
          "output_type": "execute_result",
          "data": {
            "text/plain": [
              "(28709, 48, 48, 3)"
            ]
          },
          "metadata": {
            "tags": []
          },
          "execution_count": 21
        }
      ]
    },
    {
      "cell_type": "code",
      "metadata": {
        "id": "sesl8SG4FecZ"
      },
      "source": [
        "xt=[]\n",
        "for i in range(len(Xtest)):\n",
        "  xt.append(cv2.resize(Xtest[i],(128,128)))\n"
      ],
      "execution_count": null,
      "outputs": []
    },
    {
      "cell_type": "code",
      "metadata": {
        "id": "avSDiDxEo0wC"
      },
      "source": [
        "Xtest_mobi=np.array(xt)"
      ],
      "execution_count": null,
      "outputs": []
    },
    {
      "cell_type": "code",
      "metadata": {
        "colab": {
          "base_uri": "https://localhost:8080/"
        },
        "id": "Xrj9sRiWqS4h",
        "outputId": "c37b9766-fe54-4642-bf97-f25be7c964d3"
      },
      "source": [
        "Xtest_mobi[0]"
      ],
      "execution_count": null,
      "outputs": [
        {
          "output_type": "execute_result",
          "data": {
            "text/plain": [
              "array([[[0.2235294 , 0.2235294 , 0.2235294 ],\n",
              "        [0.2257353 , 0.2257353 , 0.2257353 ],\n",
              "        [0.23897061, 0.23897061, 0.23897061],\n",
              "        ...,\n",
              "        [0.4105392 , 0.4105392 , 0.4105392 ],\n",
              "        [0.41495097, 0.41495097, 0.41495097],\n",
              "        [0.41568625, 0.41568625, 0.41568625]],\n",
              "\n",
              "       [[0.22132353, 0.22132353, 0.22132353],\n",
              "        [0.22336093, 0.22336093, 0.22336093],\n",
              "        [0.2355852 , 0.2355852 , 0.2355852 ],\n",
              "        ...,\n",
              "        [0.41081494, 0.41081494, 0.41081494],\n",
              "        [0.41541058, 0.41541058, 0.41541058],\n",
              "        [0.4161765 , 0.4161765 , 0.4161765 ]],\n",
              "\n",
              "       [[0.20808825, 0.20808825, 0.20808825],\n",
              "        [0.20911458, 0.20911458, 0.20911458],\n",
              "        [0.21527268, 0.21527268, 0.21527268],\n",
              "        ...,\n",
              "        [0.41246936, 0.41246936, 0.41246936],\n",
              "        [0.4181679 , 0.4181679 , 0.4181679 ],\n",
              "        [0.41911766, 0.41911766, 0.41911766]],\n",
              "\n",
              "       ...,\n",
              "\n",
              "       [[0.32034314, 0.32034314, 0.32034314],\n",
              "        [0.3179841 , 0.3179841 , 0.3179841 ],\n",
              "        [0.30382967, 0.30382967, 0.30382967],\n",
              "        ...,\n",
              "        [0.23368567, 0.23368567, 0.23368567],\n",
              "        [0.229182  , 0.229182  , 0.229182  ],\n",
              "        [0.22843137, 0.22843137, 0.22843137]],\n",
              "\n",
              "       [[0.32475492, 0.32475492, 0.32475492],\n",
              "        [0.32294735, 0.32294735, 0.32294735],\n",
              "        [0.31210172, 0.31210172, 0.31210172],\n",
              "        ...,\n",
              "        [0.23506436, 0.23506436, 0.23506436],\n",
              "        [0.23442096, 0.23442096, 0.23442096],\n",
              "        [0.23431373, 0.23431373, 0.23431373]],\n",
              "\n",
              "       [[0.3254902 , 0.3254902 , 0.3254902 ],\n",
              "        [0.32377455, 0.32377455, 0.32377455],\n",
              "        [0.3134804 , 0.3134804 , 0.3134804 ],\n",
              "        ...,\n",
              "        [0.23529413, 0.23529413, 0.23529413],\n",
              "        [0.23529413, 0.23529413, 0.23529413],\n",
              "        [0.23529413, 0.23529413, 0.23529413]]], dtype=float32)"
            ]
          },
          "metadata": {
            "tags": []
          },
          "execution_count": 24
        }
      ]
    },
    {
      "cell_type": "code",
      "metadata": {
        "colab": {
          "base_uri": "https://localhost:8080/",
          "height": 285
        },
        "id": "2uwUWReHqJgm",
        "outputId": "d6be5d65-ebfe-491e-b539-8d5dc3712716"
      },
      "source": [
        "plt.imshow(Xtest_mobi[5])"
      ],
      "execution_count": null,
      "outputs": [
        {
          "output_type": "execute_result",
          "data": {
            "text/plain": [
              "<matplotlib.image.AxesImage at 0x7fc51e08fb10>"
            ]
          },
          "metadata": {
            "tags": []
          },
          "execution_count": 25
        },
        {
          "output_type": "display_data",
          "data": {
            "image/png": "[encoded data removed]",
            "text/plain": [
              "<Figure size 432x288 with 1 Axes>"
            ]
          },
          "metadata": {
            "tags": [],
            "needs_background": "light"
          }
        }
      ]
    },
    {
      "cell_type": "code",
      "metadata": {
        "id": "-RwtO34WpT04"
      },
      "source": [
        "#Xtest_mobi1=tf.keras.applications.mobilenet.preprocess_input(Xtest_mobi)"
      ],
      "execution_count": null,
      "outputs": []
    },
    {
      "cell_type": "code",
      "metadata": {
        "id": "ZGpR1YRNFCWw"
      },
      "source": [
        "pred=transfer_model.predict(Xtest_mobi)"
      ],
      "execution_count": null,
      "outputs": []
    },
    {
      "cell_type": "code",
      "metadata": {
        "id": "8oXaO1vRFL-3",
        "colab": {
          "base_uri": "https://localhost:8080/"
        },
        "outputId": "200405d3-f7dd-45b1-8585-181ff033fb44"
      },
      "source": [
        "pred[0].argmax()"
      ],
      "execution_count": null,
      "outputs": [
        {
          "output_type": "execute_result",
          "data": {
            "text/plain": [
              "6"
            ]
          },
          "metadata": {
            "tags": []
          },
          "execution_count": 28
        }
      ]
    },
    {
      "cell_type": "code",
      "metadata": {
        "id": "a51Yd8iXpOE9"
      },
      "source": [
        "ypred=[]\n",
        "for i in range(len(pred)):\n",
        "  ypred.append(pred[i].argmax())"
      ],
      "execution_count": null,
      "outputs": []
    },
    {
      "cell_type": "code",
      "metadata": {
        "id": "jFhyZWDISiir",
        "colab": {
          "base_uri": "https://localhost:8080/"
        },
        "outputId": "85a6f9e7-e8b6-41ec-e8fe-80e2e205b2ee"
      },
      "source": [
        "ypred=np.array(ypred)\n",
        "np.unique(ypred)"
      ],
      "execution_count": null,
      "outputs": [
        {
          "output_type": "execute_result",
          "data": {
            "text/plain": [
              "array([2, 3, 4, 5, 6])"
            ]
          },
          "metadata": {
            "tags": []
          },
          "execution_count": 30
        }
      ]
    },
    {
      "cell_type": "code",
      "metadata": {
        "colab": {
          "base_uri": "https://localhost:8080/"
        },
        "id": "KR7AOARJUSDo",
        "outputId": "58c7b68d-6519-454f-c289-e59a045d9173"
      },
      "source": [
        "Ytest.value_counts()"
      ],
      "execution_count": null,
      "outputs": [
        {
          "output_type": "execute_result",
          "data": {
            "text/plain": [
              "3    1807\n",
              "4    1273\n",
              "6    1210\n",
              "2    1012\n",
              "0     964\n",
              "5     809\n",
              "1     103\n",
              "Name: emotion, dtype: int64"
            ]
          },
          "metadata": {
            "tags": []
          },
          "execution_count": 31
        }
      ]
    },
    {
      "cell_type": "code",
      "metadata": {
        "id": "xpqmrvo9UWCW"
      },
      "source": [
        "ytest=np.array(Ytest)"
      ],
      "execution_count": null,
      "outputs": []
    },
    {
      "cell_type": "code",
      "metadata": {
        "colab": {
          "base_uri": "https://localhost:8080/"
        },
        "id": "0FtTYY5GtijZ",
        "outputId": "e8f099ab-f22a-4f59-bc83-a1a1e3d9fbe9"
      },
      "source": [
        "from sklearn.metrics import confusion_matrix\n",
        "cm=confusion_matrix(ytest,ypred)\n",
        "cm"
      ],
      "execution_count": null,
      "outputs": [
        {
          "output_type": "execute_result",
          "data": {
            "text/plain": [
              "array([[   0,    0,    5,    7,   21,   57,  874],\n",
              "       [   0,    0,    0,    0,    3,    6,   94],\n",
              "       [   0,    0,    9,   10,   41,  129,  823],\n",
              "       [   0,    0,   13,   28,   37,  109, 1620],\n",
              "       [   0,    0,    6,    6,   50,   58, 1153],\n",
              "       [   0,    0,    5,    4,   43,  278,  479],\n",
              "       [   0,    0,    8,    3,   42,   90, 1067]])"
            ]
          },
          "metadata": {
            "tags": []
          },
          "execution_count": 33
        }
      ]
    },
    {
      "cell_type": "code",
      "metadata": {
        "colab": {
          "base_uri": "https://localhost:8080/",
          "height": 609
        },
        "id": "q19gZjDMtynZ",
        "outputId": "59faac0d-f0a5-4854-dbcd-c918b083fb25"
      },
      "source": [
        "import seaborn as sb\n",
        "plt.figure(figsize=(10,10))\n",
        "sb.heatmap(cm,annot=True)"
      ],
      "execution_count": null,
      "outputs": [
        {
          "output_type": "execute_result",
          "data": {
            "text/plain": [
              "<matplotlib.axes._subplots.AxesSubplot at 0x7fc50855ed50>"
            ]
          },
          "metadata": {
            "tags": []
          },
          "execution_count": 34
        },
        {
          "output_type": "display_data",
          "data": {
            "image/png": "[encoded data removed]",
            "text/plain": [
              "<Figure size 720x720 with 2 Axes>"
            ]
          },
          "metadata": {
            "tags": [],
            "needs_background": "light"
          }
        }
      ]
    },
    {
      "cell_type": "code",
      "metadata": {
        "id": "VMAvFsRlt9hP"
      },
      "source": [
        ""
      ],
      "execution_count": null,
      "outputs": []
    }
  ]
}