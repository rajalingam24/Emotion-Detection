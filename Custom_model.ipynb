{
  "nbformat": 4,
  "nbformat_minor": 0,
  "metadata": {
    "colab": {
      "name": "Custom model",
      "provenance": [],
      "collapsed_sections": [],
      "authorship_tag": "ABX9TyMqSgxNIj2AFyjsskWSCGQF",
      "include_colab_link": true
    },
    "kernelspec": {
      "name": "python3",
      "display_name": "Python 3"
    },
    "language_info": {
      "name": "python"
    },
    "accelerator": "GPU"
  },
  "cells": [
    {
      "cell_type": "markdown",
      "metadata": {
        "id": "view-in-github",
        "colab_type": "text"
      },
      "source": [
        "<a href=\"https://colab.research.google.com/github/rajalingam24/Emotion-Detection/blob/main/Custom_model.ipynb\" target=\"_parent\"><img src=\"https://colab.research.google.com/assets/colab-badge.svg\" alt=\"Open In Colab\"/></a>"
      ]
    },
    {
      "cell_type": "code",
      "metadata": {
        "id": "rwCWeh56ceXH"
      },
      "source": [
        "# Importing necessary libraries\n",
        "\n",
        "import math\n",
        "import numpy as np\n",
        "import pandas as pd\n",
        "import seaborn as sns\n",
        "from matplotlib import pyplot as plt\n",
        "from sklearn.model_selection import train_test_split\n",
        "import cv2\n",
        "from sklearn.metrics import confusion_matrix\n",
        "from sklearn.metrics import classification_report\n",
        "\n",
        "\n",
        "from tensorflow.keras.preprocessing.image import ImageDataGenerator\n",
        "from tensorflow.keras.models import Sequential\n",
        "from tensorflow.keras.layers import Dense, Conv2D, Flatten,Dropout, MaxPooling2D, Activation, BatchNormalization\n",
        "from tensorflow.keras.preprocessing import image\n",
        "from tensorflow.keras.optimizers import Adam, SGD\n",
        "from tensorflow.keras.callbacks import CSVLogger, ModelCheckpoint, EarlyStopping, ReduceLROnPlateau\n",
        "from tensorflow.keras.utils import to_categorical\n",
        "from tensorflow.keras.applications import VGG16\n",
        "from tensorflow.keras.models import Model"
      ],
      "execution_count": null,
      "outputs": []
    },
    {
      "cell_type": "code",
      "metadata": {
        "colab": {
          "base_uri": "https://localhost:8080/"
        },
        "id": "kv2c3c_heKMA",
        "outputId": "a81e60ce-6c80-4f91-ef1d-d60377c63140"
      },
      "source": [
        "from google.colab import drive\n",
        "drive.mount('/content/drive')"
      ],
      "execution_count": null,
      "outputs": [
        {
          "output_type": "stream",
          "text": [
            "Mounted at /content/drive\n"
          ],
          "name": "stdout"
        }
      ]
    },
    {
      "cell_type": "code",
      "metadata": {
        "colab": {
          "base_uri": "https://localhost:8080/",
          "height": 204
        },
        "id": "B450mTaJeQLL",
        "outputId": "f849fb90-ab80-42ba-f9b6-27c9ce009728"
      },
      "source": [
        "dataset_path = '/content/drive/MyDrive/fer2013.csv'\n",
        "\n",
        "df = pd.read_csv(dataset_path)\n",
        "\n",
        "df.head()"
      ],
      "execution_count": null,
      "outputs": [
        {
          "output_type": "execute_result",
          "data": {
            "text/html": [
              "<div>\n",
              "<style scoped>\n",
              "    .dataframe tbody tr th:only-of-type {\n",
              "        vertical-align: middle;\n",
              "    }\n",
              "\n",
              "    .dataframe tbody tr th {\n",
              "        vertical-align: top;\n",
              "    }\n",
              "\n",
              "    .dataframe thead th {\n",
              "        text-align: right;\n",
              "    }\n",
              "</style>\n",
              "<table border=\"1\" class=\"dataframe\">\n",
              "  <thead>\n",
              "    <tr style=\"text-align: right;\">\n",
              "      <th></th>\n",
              "      <th>emotion</th>\n",
              "      <th>pixels</th>\n",
              "      <th>Usage</th>\n",
              "    </tr>\n",
              "  </thead>\n",
              "  <tbody>\n",
              "    <tr>\n",
              "      <th>0</th>\n",
              "      <td>0</td>\n",
              "      <td>70 80 82 72 58 58 60 63 54 58 60 48 89 115 121...</td>\n",
              "      <td>Training</td>\n",
              "    </tr>\n",
              "    <tr>\n",
              "      <th>1</th>\n",
              "      <td>0</td>\n",
              "      <td>151 150 147 155 148 133 111 140 170 174 182 15...</td>\n",
              "      <td>Training</td>\n",
              "    </tr>\n",
              "    <tr>\n",
              "      <th>2</th>\n",
              "      <td>2</td>\n",
              "      <td>231 212 156 164 174 138 161 173 182 200 106 38...</td>\n",
              "      <td>Training</td>\n",
              "    </tr>\n",
              "    <tr>\n",
              "      <th>3</th>\n",
              "      <td>4</td>\n",
              "      <td>24 32 36 30 32 23 19 20 30 41 21 22 32 34 21 1...</td>\n",
              "      <td>Training</td>\n",
              "    </tr>\n",
              "    <tr>\n",
              "      <th>4</th>\n",
              "      <td>6</td>\n",
              "      <td>4 0 0 0 0 0 0 0 0 0 0 0 3 15 23 28 48 50 58 84...</td>\n",
              "      <td>Training</td>\n",
              "    </tr>\n",
              "  </tbody>\n",
              "</table>\n",
              "</div>"
            ],
            "text/plain": [
              "   emotion                                             pixels     Usage\n",
              "0        0  70 80 82 72 58 58 60 63 54 58 60 48 89 115 121...  Training\n",
              "1        0  151 150 147 155 148 133 111 140 170 174 182 15...  Training\n",
              "2        2  231 212 156 164 174 138 161 173 182 200 106 38...  Training\n",
              "3        4  24 32 36 30 32 23 19 20 30 41 21 22 32 34 21 1...  Training\n",
              "4        6  4 0 0 0 0 0 0 0 0 0 0 0 3 15 23 28 48 50 58 84...  Training"
            ]
          },
          "metadata": {
            "tags": []
          },
          "execution_count": 3
        }
      ]
    },
    {
      "cell_type": "code",
      "metadata": {
        "colab": {
          "base_uri": "https://localhost:8080/"
        },
        "id": "LD0LopdseihP",
        "outputId": "46ab6c1c-9a3d-4290-a4c4-447425224368"
      },
      "source": [
        "df['Usage'].unique()"
      ],
      "execution_count": null,
      "outputs": [
        {
          "output_type": "execute_result",
          "data": {
            "text/plain": [
              "array(['Training', 'PublicTest', 'PrivateTest'], dtype=object)"
            ]
          },
          "metadata": {
            "tags": []
          },
          "execution_count": 4
        }
      ]
    },
    {
      "cell_type": "code",
      "metadata": {
        "colab": {
          "base_uri": "https://localhost:8080/",
          "height": 448
        },
        "id": "j4MvjaYYeoIT",
        "outputId": "d8e53c68-5092-41c7-83c9-fc65b4c5b5c9"
      },
      "source": [
        "# Visualizing the datasets\n",
        "\n",
        "emotions_dummy = {0:'anger', 1:'disgust', 2:'fear', 3:'happiness', 4: 'sadness', 5: 'surprise', 6: 'neutral'}\n",
        "\n",
        "fig = plt.figure(1, (12, 12))\n",
        "\n",
        "k = 0\n",
        "for label in sorted(df.emotion.unique()):\n",
        "    for j in range(1):\n",
        "        px = df[df.emotion==label].pixels.iloc[k]\n",
        "        px = np.array(px.split(' ')).reshape(48, 48).astype('float32')\n",
        "        k += 1\n",
        "        ax = plt.subplot(4, 4, k)\n",
        "        ax.imshow(px , cmap='gray')\n",
        "        ax.set_xticks([])\n",
        "        ax.set_yticks([])\n",
        "        ax.set_title(emotions_dummy[label])\n",
        "        plt.tight_layout()"
      ],
      "execution_count": null,
      "outputs": [
        {
          "output_type": "display_data",
          "data": {
            "image/png": "[encoded data removed]",
            "text/plain": [
              "<Figure size 864x864 with 7 Axes>"
            ]
          },
          "metadata": {
            "tags": []
          }
        }
      ]
    },
    {
      "cell_type": "code",
      "metadata": {
        "id": "aISLSjKLetxM"
      },
      "source": [
        "image_size=(48,48)\n",
        "\n",
        "# Data Loading and Pre-Processing Functionalities\n",
        "\n",
        "def load_dataset(data):\n",
        "    data = (data[data['pixels'].notnull()])\n",
        "    data = (data[data['pixels'].notnull()])\n",
        "    pixels = data['pixels'].tolist()\n",
        "    width, height = 48, 48\n",
        "    faces = []\n",
        "    for pixel_sequence in pixels:\n",
        "        face = [int(pixel) for pixel in pixel_sequence.split(' ')]\n",
        "        face = np.asarray(face).reshape(width, height)\n",
        "        face = cv2.resize(face.astype('uint8'),image_size)\n",
        "        face = cv2.cvtColor(face, cv2.COLOR_GRAY2BGR)\n",
        "        faces.append(face.astype('float32'))\n",
        "    faces = np.asarray(faces)\n",
        "    emotions = (data['emotion'])#.values\n",
        "    return faces, emotions\n",
        " \n",
        "def preprocess_data(x):\n",
        "    x = x.astype('float32')\n",
        "    x = x / 255.0\n",
        "    return x"
      ],
      "execution_count": null,
      "outputs": []
    },
    {
      "cell_type": "code",
      "metadata": {
        "colab": {
          "base_uri": "https://localhost:8080/"
        },
        "id": "cNsQgBy2e1F5",
        "outputId": "06587320-0755-4a95-b48b-c355d50eb296"
      },
      "source": [
        "train_data = df.loc[df['Usage']=='Training']      # Training Data\n",
        "valid_data = df.loc[df['Usage']=='PublicTest']    # Validation Data\n",
        "test_data  = df.loc[df['Usage']=='PrivateTest']   # Test Data\n",
        "\n",
        "print (len(train_data), len (valid_data), len(test_data))  # Printing the len of all the data"
      ],
      "execution_count": null,
      "outputs": [
        {
          "output_type": "stream",
          "text": [
            "28709 3589 3589\n"
          ],
          "name": "stdout"
        }
      ]
    },
    {
      "cell_type": "code",
      "metadata": {
        "colab": {
          "base_uri": "https://localhost:8080/",
          "height": 279
        },
        "id": "ENYp-8Bue4h9",
        "outputId": "a3369aba-af78-4d87-e114-e57a5f63bd3f"
      },
      "source": [
        "import seaborn as sns\n",
        "sns.countplot(data=train_data, x = 'emotion')\n",
        "plt.show()"
      ],
      "execution_count": null,
      "outputs": [
        {
          "output_type": "display_data",
          "data": {
            "image/png": "[encoded data removed]",
            "text/plain": [
              "<Figure size 432x288 with 1 Axes>"
            ]
          },
          "metadata": {
            "tags": [],
            "needs_background": "light"
          }
        }
      ]
    },
    {
      "cell_type": "code",
      "metadata": {
        "colab": {
          "base_uri": "https://localhost:8080/"
        },
        "id": "TXqRPHTSe945",
        "outputId": "8030f858-14a8-4e68-a481-d9bd0596ddc5"
      },
      "source": [
        "# Training Data - Extraction & Pre-Processing\n",
        "\n",
        "X_train, Y_train = load_dataset(train_data)\n",
        "#X_train = preprocess_data(X_train)\n",
        "Y_train = to_categorical(Y_train)\n",
        "    \n",
        "print(\"Shape of X_Train = {}\".format(X_train.shape))\n",
        "print(\"Shape of Y_Train = {}\".format(Y_train.shape))"
      ],
      "execution_count": null,
      "outputs": [
        {
          "output_type": "stream",
          "text": [
            "Shape of X_Train = (28709, 48, 48, 3)\n",
            "Shape of Y_Train = (28709, 7)\n"
          ],
          "name": "stdout"
        }
      ]
    },
    {
      "cell_type": "code",
      "metadata": {
        "colab": {
          "base_uri": "https://localhost:8080/"
        },
        "id": "0pqeF94PfBrB",
        "outputId": "21bfa3b2-aba7-49d9-bd52-cfa370208384"
      },
      "source": [
        "# PublicTest / Validation Data - Extraction & Pre-Processing\n",
        "\n",
        "X_val, Y_val = load_dataset(valid_data)\n",
        "#X_val = preprocess_data(X_val)\n",
        "Y_val = to_categorical(Y_val)\n",
        "\n",
        "print(\"Shape of X_Val = {}\".format(X_val.shape))\n",
        "print(\"Shape of Y_Val = {}\".format(Y_val.shape))"
      ],
      "execution_count": null,
      "outputs": [
        {
          "output_type": "stream",
          "text": [
            "Shape of X_Val = (3589, 48, 48, 3)\n",
            "Shape of Y_Val = (3589, 7)\n"
          ],
          "name": "stdout"
        }
      ]
    },
    {
      "cell_type": "code",
      "metadata": {
        "colab": {
          "base_uri": "https://localhost:8080/"
        },
        "id": "5SefMpLtfGcy",
        "outputId": "bae86f1f-91c5-49ad-9574-2a1e919c3be3"
      },
      "source": [
        "# PrivateTest / Evaluation Data - Extraction & Pre-Processing\n",
        "\n",
        "X_eval, Y_eval = load_dataset(test_data)\n",
        "#X_eval = preprocess_data(X_eval)\n",
        "Y_eval = to_categorical(Y_eval)\n",
        "\n",
        "print(\"Shape of X_Eval = {}\".format(X_eval.shape))\n",
        "print(\"Shape of Y_Eval = {}\".format(Y_eval.shape))"
      ],
      "execution_count": null,
      "outputs": [
        {
          "output_type": "stream",
          "text": [
            "Shape of X_Eval = (3589, 48, 48, 3)\n",
            "Shape of Y_Eval = (3589, 7)\n"
          ],
          "name": "stdout"
        }
      ]
    },
    {
      "cell_type": "code",
      "metadata": {
        "id": "t-wjcVLMfNAZ"
      },
      "source": [
        "# Defining Train and Test ImageDataGenerator\n",
        "\n",
        "train_datagen = ImageDataGenerator(rescale = 1./255) #, rotation_range=30, width_shift_range=0.2, height_shift_range=0.2, shear_range=0.2, horizontal_flip=True, vertical_flip=True, fill_mode='nearest')\n",
        "\n",
        "test_datagen = ImageDataGenerator(rescale=1./255)\n",
        "val_datagen=ImageDataGenerator(rescale=1./255)"
      ],
      "execution_count": null,
      "outputs": []
    },
    {
      "cell_type": "code",
      "metadata": {
        "id": "Qi45qzz1Imrp"
      },
      "source": [
        "data_generator = ImageDataGenerator(rescale=1./255,featurewise_center=False, featurewise_std_normalization=False, rotation_range=10, \n",
        "                                    width_shift_range=0.1, height_shift_range=0.1, zoom_range=.1, horizontal_flip=True)"
      ],
      "execution_count": null,
      "outputs": []
    },
    {
      "cell_type": "code",
      "metadata": {
        "colab": {
          "base_uri": "https://localhost:8080/"
        },
        "id": "jr80NJ5zElIu",
        "outputId": "c52d2996-dd3e-47c0-b875-af4656cb32d9"
      },
      "source": [
        "import tensorflow as tf\n",
        "from keras import regularizers\n",
        "model = tf.keras.models.Sequential()   \n",
        "\n",
        "model.add(Conv2D(32, kernel_size=(3, 3), padding='same', activation='relu', input_shape =(48,48, 3)))\n",
        "model.add(Conv2D(64, kernel_size=(3, 3), activation='relu', padding='same'))\n",
        "model.add(BatchNormalization())\n",
        "model.add(MaxPooling2D(2, 2))\n",
        "model.add(Dropout(0.25))\n",
        "model.add(Conv2D(128, kernel_size=(3, 3), activation='relu', padding='same', kernel_regularizer=regularizers.l2(0.01)))\n",
        "model.add(Conv2D(256, kernel_size=(3, 3), activation='relu', kernel_regularizer=regularizers.l2(0.01)))\n",
        "model.add(BatchNormalization())\n",
        "model.add(MaxPooling2D(pool_size=(2, 2)))\n",
        "model.add(Dropout(0.25))\n",
        "model.add(Conv2D(512, kernel_size=(3,3), activation='relu', padding='same', kernel_regularizer=regularizers.l2(0.01)))\n",
        "model.add(Conv2D(512, kernel_size=(3,3), activation='relu', padding='same', kernel_regularizer=regularizers.l2(0.01)))\n",
        "model.add(BatchNormalization())\n",
        "model.add(MaxPooling2D(pool_size=(2, 2)))\n",
        "model.add(Dropout(0.25))\n",
        "    \n",
        "\n",
        "model.add(Flatten())\n",
        "model.add(Dense(1024, activation='relu'))\n",
        "model.add(Dropout(0.5))\n",
        "    \n",
        "model.add(Dense(7, activation='softmax'))\n",
        "\n",
        "    #Compliling the model\n",
        "model.compile(optimizer=Adam(lr=0.0001, decay=1e-6), \n",
        "                  loss='categorical_crossentropy', \n",
        "                  metrics=['accuracy'])"
      ],
      "execution_count": null,
      "outputs": [
        {
          "output_type": "stream",
          "text": [
            "/usr/local/lib/python3.7/dist-packages/tensorflow/python/keras/optimizer_v2/optimizer_v2.py:375: UserWarning: The `lr` argument is deprecated, use `learning_rate` instead.\n",
            "  \"The `lr` argument is deprecated, use `learning_rate` instead.\")\n"
          ],
          "name": "stderr"
        }
      ]
    },
    {
      "cell_type": "code",
      "metadata": {
        "id": "SMOAFly7HPD3"
      },
      "source": [
        "chk_path = 'ferNetweight.h5'\n",
        "#log_dir = \"checkpoint/logs/\" + datetime.datetime.now().strftime(\"%Y%m%d-%H%M%S\")\n",
        "\n",
        "checkpoint = ModelCheckpoint(filepath=chk_path,\n",
        "                             save_best_only=True,\n",
        "                             verbose=1,\n",
        "                             mode='min',\n",
        "                             moniter='val_loss')\n",
        "\n",
        "earlystop = EarlyStopping(monitor='val_loss', \n",
        "                          min_delta=0, \n",
        "                          patience=3, \n",
        "                          verbose=1, \n",
        "                          restore_best_weights=True)\n",
        "                        \n",
        "reduce_lr = ReduceLROnPlateau(monitor='val_loss', \n",
        "                              factor=0.2, \n",
        "                              patience=6, \n",
        "                              verbose=1, \n",
        "                              min_delta=0.0001)\n",
        "\n",
        "\n",
        "\n",
        "\n",
        "callbacks = [checkpoint, reduce_lr,earlystop]"
      ],
      "execution_count": null,
      "outputs": []
    },
    {
      "cell_type": "code",
      "metadata": {
        "id": "MpX_9VUYIIaH"
      },
      "source": [
        "batch_size=128"
      ],
      "execution_count": null,
      "outputs": []
    },
    {
      "cell_type": "code",
      "metadata": {
        "colab": {
          "base_uri": "https://localhost:8080/"
        },
        "id": "9DyYooGALOvq",
        "outputId": "8083d958-c718-4354-ec57-69833192d432"
      },
      "source": [
        "istory = model.fit(X_train, Y_train, batch_size = 128, epochs = 50, verbose=1,validation_data = (X_val, Y_val),callbacks=callbacks)"
      ],
      "execution_count": null,
      "outputs": [
        {
          "output_type": "stream",
          "text": [
            "Epoch 1/50\n",
            "225/225 [==============================] - 74s 185ms/step - loss: 12.6452 - accuracy: 0.2598 - val_loss: 12.4668 - val_accuracy: 0.2126\n",
            "\n",
            "Epoch 00001: val_loss improved from inf to 12.46677, saving model to ferNetweight.h5\n",
            "Epoch 2/50\n",
            "225/225 [==============================] - 40s 179ms/step - loss: 10.7908 - accuracy: 0.3424 - val_loss: 9.9356 - val_accuracy: 0.3990\n",
            "\n",
            "Epoch 00002: val_loss improved from 12.46677 to 9.93557, saving model to ferNetweight.h5\n",
            "Epoch 3/50\n",
            "225/225 [==============================] - 41s 181ms/step - loss: 9.0891 - accuracy: 0.3920 - val_loss: 8.2697 - val_accuracy: 0.4310\n",
            "\n",
            "Epoch 00003: val_loss improved from 9.93557 to 8.26966, saving model to ferNetweight.h5\n",
            "Epoch 4/50\n",
            "225/225 [==============================] - 41s 182ms/step - loss: 7.5784 - accuracy: 0.4277 - val_loss: 6.8942 - val_accuracy: 0.4589\n",
            "\n",
            "Epoch 00004: val_loss improved from 8.26966 to 6.89416, saving model to ferNetweight.h5\n",
            "Epoch 5/50\n",
            "225/225 [==============================] - 41s 182ms/step - loss: 6.2890 - accuracy: 0.4612 - val_loss: 5.7201 - val_accuracy: 0.4898\n",
            "\n",
            "Epoch 00005: val_loss improved from 6.89416 to 5.72006, saving model to ferNetweight.h5\n",
            "Epoch 6/50\n",
            "225/225 [==============================] - 41s 182ms/step - loss: 5.2337 - accuracy: 0.4880 - val_loss: 4.7704 - val_accuracy: 0.5018\n",
            "\n",
            "Epoch 00006: val_loss improved from 5.72006 to 4.77036, saving model to ferNetweight.h5\n",
            "Epoch 7/50\n",
            "225/225 [==============================] - 41s 182ms/step - loss: 4.3778 - accuracy: 0.5136 - val_loss: 4.0324 - val_accuracy: 0.5219\n",
            "\n",
            "Epoch 00007: val_loss improved from 4.77036 to 4.03243, saving model to ferNetweight.h5\n",
            "Epoch 8/50\n",
            "225/225 [==============================] - 41s 181ms/step - loss: 3.6984 - accuracy: 0.5352 - val_loss: 3.4591 - val_accuracy: 0.5244\n",
            "\n",
            "Epoch 00008: val_loss improved from 4.03243 to 3.45910, saving model to ferNetweight.h5\n",
            "Epoch 9/50\n",
            "225/225 [==============================] - 41s 182ms/step - loss: 3.1627 - accuracy: 0.5566 - val_loss: 2.9745 - val_accuracy: 0.5545\n",
            "\n",
            "Epoch 00009: val_loss improved from 3.45910 to 2.97453, saving model to ferNetweight.h5\n",
            "Epoch 10/50\n",
            "225/225 [==============================] - 41s 181ms/step - loss: 2.7426 - accuracy: 0.5746 - val_loss: 2.6159 - val_accuracy: 0.5717\n",
            "\n",
            "Epoch 00010: val_loss improved from 2.97453 to 2.61590, saving model to ferNetweight.h5\n",
            "Epoch 11/50\n",
            "225/225 [==============================] - 41s 181ms/step - loss: 2.4124 - accuracy: 0.5942 - val_loss: 2.4056 - val_accuracy: 0.5584\n",
            "\n",
            "Epoch 00011: val_loss improved from 2.61590 to 2.40558, saving model to ferNetweight.h5\n",
            "Epoch 12/50\n",
            "225/225 [==============================] - 41s 181ms/step - loss: 2.1518 - accuracy: 0.6112 - val_loss: 2.1470 - val_accuracy: 0.5770\n",
            "\n",
            "Epoch 00012: val_loss improved from 2.40558 to 2.14702, saving model to ferNetweight.h5\n",
            "Epoch 13/50\n",
            "225/225 [==============================] - 41s 181ms/step - loss: 1.9416 - accuracy: 0.6276 - val_loss: 2.0094 - val_accuracy: 0.5759\n",
            "\n",
            "Epoch 00013: val_loss improved from 2.14702 to 2.00943, saving model to ferNetweight.h5\n",
            "Epoch 14/50\n",
            "225/225 [==============================] - 41s 181ms/step - loss: 1.7502 - accuracy: 0.6524 - val_loss: 1.9762 - val_accuracy: 0.5745\n",
            "\n",
            "Epoch 00014: val_loss improved from 2.00943 to 1.97622, saving model to ferNetweight.h5\n",
            "Epoch 15/50\n",
            "225/225 [==============================] - 41s 181ms/step - loss: 1.6091 - accuracy: 0.6746 - val_loss: 1.7992 - val_accuracy: 0.5924\n",
            "\n",
            "Epoch 00015: val_loss improved from 1.97622 to 1.79920, saving model to ferNetweight.h5\n",
            "Epoch 16/50\n",
            "225/225 [==============================] - 41s 181ms/step - loss: 1.4779 - accuracy: 0.6954 - val_loss: 1.7404 - val_accuracy: 0.5993\n",
            "\n",
            "Epoch 00016: val_loss improved from 1.79920 to 1.74037, saving model to ferNetweight.h5\n",
            "Epoch 17/50\n",
            "225/225 [==============================] - 41s 180ms/step - loss: 1.3682 - accuracy: 0.7162 - val_loss: 1.6771 - val_accuracy: 0.6041\n",
            "\n",
            "Epoch 00017: val_loss improved from 1.74037 to 1.67705, saving model to ferNetweight.h5\n",
            "Epoch 18/50\n",
            "225/225 [==============================] - 41s 180ms/step - loss: 1.2569 - accuracy: 0.7440 - val_loss: 1.6499 - val_accuracy: 0.6074\n",
            "\n",
            "Epoch 00018: val_loss improved from 1.67705 to 1.64991, saving model to ferNetweight.h5\n",
            "Epoch 19/50\n",
            "225/225 [==============================] - 41s 180ms/step - loss: 1.1621 - accuracy: 0.7653 - val_loss: 1.6534 - val_accuracy: 0.6110\n",
            "\n",
            "Epoch 00019: val_loss did not improve from 1.64991\n",
            "Epoch 20/50\n",
            "225/225 [==============================] - 41s 180ms/step - loss: 1.0754 - accuracy: 0.7879 - val_loss: 1.6229 - val_accuracy: 0.6141\n",
            "\n",
            "Epoch 00020: val_loss improved from 1.64991 to 1.62292, saving model to ferNetweight.h5\n",
            "Epoch 21/50\n",
            "225/225 [==============================] - 41s 180ms/step - loss: 0.9937 - accuracy: 0.8103 - val_loss: 1.5670 - val_accuracy: 0.6328\n",
            "\n",
            "Epoch 00021: val_loss improved from 1.62292 to 1.56698, saving model to ferNetweight.h5\n",
            "Epoch 22/50\n",
            "225/225 [==============================] - 41s 180ms/step - loss: 0.9389 - accuracy: 0.8219 - val_loss: 1.5348 - val_accuracy: 0.6333\n",
            "\n",
            "Epoch 00022: val_loss improved from 1.56698 to 1.53482, saving model to ferNetweight.h5\n",
            "Epoch 23/50\n",
            "225/225 [==============================] - 40s 180ms/step - loss: 0.8693 - accuracy: 0.8425 - val_loss: 1.5398 - val_accuracy: 0.6322\n",
            "\n",
            "Epoch 00023: val_loss did not improve from 1.53482\n",
            "Epoch 24/50\n",
            "225/225 [==============================] - 41s 180ms/step - loss: 0.8046 - accuracy: 0.8623 - val_loss: 1.5684 - val_accuracy: 0.6308\n",
            "\n",
            "Epoch 00024: val_loss did not improve from 1.53482\n",
            "Epoch 25/50\n",
            "225/225 [==============================] - 41s 181ms/step - loss: 0.7584 - accuracy: 0.8734 - val_loss: 1.5309 - val_accuracy: 0.6369\n",
            "\n",
            "Epoch 00025: val_loss improved from 1.53482 to 1.53092, saving model to ferNetweight.h5\n",
            "Epoch 26/50\n",
            "225/225 [==============================] - 40s 180ms/step - loss: 0.7103 - accuracy: 0.8854 - val_loss: 1.6138 - val_accuracy: 0.6314\n",
            "\n",
            "Epoch 00026: val_loss did not improve from 1.53092\n",
            "Epoch 27/50\n",
            "225/225 [==============================] - 41s 180ms/step - loss: 0.6683 - accuracy: 0.8939 - val_loss: 1.5649 - val_accuracy: 0.6356\n",
            "\n",
            "Epoch 00027: val_loss did not improve from 1.53092\n",
            "Epoch 28/50\n",
            "225/225 [==============================] - 41s 181ms/step - loss: 0.6363 - accuracy: 0.9031 - val_loss: 1.5157 - val_accuracy: 0.6406\n",
            "\n",
            "Epoch 00028: val_loss improved from 1.53092 to 1.51570, saving model to ferNetweight.h5\n",
            "Epoch 29/50\n",
            "225/225 [==============================] - 41s 181ms/step - loss: 0.6047 - accuracy: 0.9111 - val_loss: 1.6052 - val_accuracy: 0.6414\n",
            "\n",
            "Epoch 00029: val_loss did not improve from 1.51570\n",
            "Epoch 30/50\n",
            "225/225 [==============================] - 41s 181ms/step - loss: 0.5828 - accuracy: 0.9135 - val_loss: 1.5722 - val_accuracy: 0.6325\n",
            "\n",
            "Epoch 00030: val_loss did not improve from 1.51570\n",
            "Epoch 31/50\n",
            "225/225 [==============================] - 41s 181ms/step - loss: 0.5505 - accuracy: 0.9217 - val_loss: 1.5922 - val_accuracy: 0.6431\n",
            "\n",
            "Epoch 00031: val_loss did not improve from 1.51570\n",
            "Restoring model weights from the end of the best epoch.\n",
            "Epoch 00031: early stopping\n"
          ],
          "name": "stdout"
        }
      ]
    },
    {
      "cell_type": "code",
      "metadata": {
        "colab": {
          "base_uri": "https://localhost:8080/",
          "height": 573
        },
        "id": "a_5-w1OCiZQs",
        "outputId": "0deda1e4-3d70-4b15-c82b-6941fadfbbee"
      },
      "source": [
        "# Plotting Performance Metrics\n",
        "\n",
        "\n",
        "plt.plot(istory.history['accuracy'])\n",
        "plt.plot(istory.history['val_accuracy'])\n",
        "plt.title('Model Accuracy')\n",
        "plt.ylabel('Accuracy')\n",
        "plt.xlabel('Epoch')\n",
        "plt.legend(['train', 'val'], loc='upper left')\n",
        "plt.show()\n",
        "\n",
        "plt.plot(istory.history['loss'])\n",
        "plt.plot(istory.history['val_loss'])\n",
        "plt.title('Model Loss')\n",
        "plt.ylabel('loss')\n",
        "plt.xlabel('Epoch')\n",
        "plt.legend(['train', 'val'], loc='upper left')\n",
        "plt.show()"
      ],
      "execution_count": null,
      "outputs": [
        {
          "output_type": "display_data",
          "data": {
            "image/png": "[encoded data removed]",
            "text/plain": [
              "<Figure size 432x288 with 1 Axes>"
            ]
          },
          "metadata": {
            "tags": [],
            "needs_background": "light"
          }
        },
        {
          "output_type": "display_data",
          "data": {
            "image/png": "[encoded data removed]",
            "text/plain": [
              "<Figure size 432x288 with 1 Axes>"
            ]
          },
          "metadata": {
            "tags": [],
            "needs_background": "light"
          }
        }
      ]
    },
    {
      "cell_type": "code",
      "metadata": {
        "colab": {
          "base_uri": "https://localhost:8080/"
        },
        "id": "YKco1xZcPlYc",
        "outputId": "2dc416c8-2663-4ff7-86d3-6dd9a42f039d"
      },
      "source": [
        "y_predcu = model.predict(X_val)\n",
        "y_truecu = Y_val\n",
        "\n",
        "y_truecu = np.argmax(y_truecu,axis=1)\n",
        "y_predcu = np.argmax(y_predcu>0.5,axis=1)\n",
        "\n",
        "from sklearn.metrics import classification_report\n",
        "target_names =  ['Angry','disgust', 'fear', 'happy','sad','surprise', 'neutral']\n",
        "print(classification_report(y_truecu, y_predcu, target_names=target_names))"
      ],
      "execution_count": null,
      "outputs": [
        {
          "output_type": "stream",
          "text": [
            "              precision    recall  f1-score   support\n",
            "\n",
            "       Angry       0.35      0.69      0.46       467\n",
            "     disgust       0.90      0.50      0.64        56\n",
            "        fear       0.58      0.41      0.48       496\n",
            "       happy       0.85      0.80      0.83       895\n",
            "         sad       0.59      0.46      0.52       653\n",
            "    surprise       0.84      0.77      0.80       415\n",
            "     neutral       0.58      0.53      0.55       607\n",
            "\n",
            "    accuracy                           0.61      3589\n",
            "   macro avg       0.67      0.59      0.61      3589\n",
            "weighted avg       0.65      0.61      0.62      3589\n",
            "\n"
          ],
          "name": "stdout"
        }
      ]
    },
    {
      "cell_type": "code",
      "metadata": {
        "colab": {
          "base_uri": "https://localhost:8080/",
          "height": 599
        },
        "id": "Ci83NL8kPy_v",
        "outputId": "75ee8ad2-66be-4465-f2c7-f55e7b7c9d28"
      },
      "source": [
        "from sklearn.metrics import confusion_matrix\n",
        "cm = confusion_matrix(y_truecu, y_predcu)\n",
        "import tensorflow as tf\n",
        "confusion_matrix = tf.math.confusion_matrix(labels=y_truecu, predictions=y_predcu).numpy()\n",
        "confusion_matrix = np.around(confusion_matrix.astype('float') / confusion_matrix.sum(axis=1)[:, np.newaxis], decimals=2)\n",
        "\n",
        "confusion_matrix = pd.DataFrame(confusion_matrix,\n",
        "                                index = target_names, \n",
        "                                columns = target_names)\n",
        "\n",
        "\n",
        "import seaborn as sns\n",
        "figure = plt.figure(figsize=(8, 8))\n",
        "sns.heatmap(confusion_matrix, annot=True,cmap=plt.cm.Blues)\n",
        "plt.tight_layout()\n",
        "plt.ylabel('True label')\n",
        "plt.xlabel('Predicted label')\n",
        "plt.show()"
      ],
      "execution_count": null,
      "outputs": [
        {
          "output_type": "display_data",
          "data": {
            "image/png": "[encoded data removed]",
            "text/plain": [
              "<Figure size 576x576 with 2 Axes>"
            ]
          },
          "metadata": {
            "tags": [],
            "needs_background": "light"
          }
        }
      ]
    },
    {
      "cell_type": "code",
      "metadata": {
        "colab": {
          "base_uri": "https://localhost:8080/",
          "height": 173
        },
        "id": "tswX6NLAijjg",
        "outputId": "5e36c37a-9355-45e3-ca3a-5963b947cacc"
      },
      "source": [
        "import pandas as pd\n",
        "from sklearn.metrics import classification_report\n",
        "\n",
        "report_dict = classification_report(y_truecu, y_predcu, output_dict=True)\n",
        "report = pd.DataFrame(report_dict)\n",
        "\n",
        "report"
      ],
      "execution_count": null,
      "outputs": [
        {
          "output_type": "execute_result",
          "data": {
            "text/html": [
              "<div>\n",
              "<style scoped>\n",
              "    .dataframe tbody tr th:only-of-type {\n",
              "        vertical-align: middle;\n",
              "    }\n",
              "\n",
              "    .dataframe tbody tr th {\n",
              "        vertical-align: top;\n",
              "    }\n",
              "\n",
              "    .dataframe thead th {\n",
              "        text-align: right;\n",
              "    }\n",
              "</style>\n",
              "<table border=\"1\" class=\"dataframe\">\n",
              "  <thead>\n",
              "    <tr style=\"text-align: right;\">\n",
              "      <th></th>\n",
              "      <th>0</th>\n",
              "      <th>1</th>\n",
              "      <th>2</th>\n",
              "      <th>3</th>\n",
              "      <th>4</th>\n",
              "      <th>5</th>\n",
              "      <th>6</th>\n",
              "      <th>accuracy</th>\n",
              "      <th>macro avg</th>\n",
              "      <th>weighted avg</th>\n",
              "    </tr>\n",
              "  </thead>\n",
              "  <tbody>\n",
              "    <tr>\n",
              "      <th>precision</th>\n",
              "      <td>0.348913</td>\n",
              "      <td>0.903226</td>\n",
              "      <td>0.577586</td>\n",
              "      <td>0.848878</td>\n",
              "      <td>0.587084</td>\n",
              "      <td>0.836842</td>\n",
              "      <td>0.577899</td>\n",
              "      <td>0.614656</td>\n",
              "      <td>0.668633</td>\n",
              "      <td>0.652324</td>\n",
              "    </tr>\n",
              "    <tr>\n",
              "      <th>recall</th>\n",
              "      <td>0.687366</td>\n",
              "      <td>0.500000</td>\n",
              "      <td>0.405242</td>\n",
              "      <td>0.803352</td>\n",
              "      <td>0.459418</td>\n",
              "      <td>0.766265</td>\n",
              "      <td>0.525535</td>\n",
              "      <td>0.614656</td>\n",
              "      <td>0.592454</td>\n",
              "      <td>0.614656</td>\n",
              "    </tr>\n",
              "    <tr>\n",
              "      <th>f1-score</th>\n",
              "      <td>0.462870</td>\n",
              "      <td>0.643678</td>\n",
              "      <td>0.476303</td>\n",
              "      <td>0.825488</td>\n",
              "      <td>0.515464</td>\n",
              "      <td>0.800000</td>\n",
              "      <td>0.550475</td>\n",
              "      <td>0.614656</td>\n",
              "      <td>0.610611</td>\n",
              "      <td>0.621343</td>\n",
              "    </tr>\n",
              "    <tr>\n",
              "      <th>support</th>\n",
              "      <td>467.000000</td>\n",
              "      <td>56.000000</td>\n",
              "      <td>496.000000</td>\n",
              "      <td>895.000000</td>\n",
              "      <td>653.000000</td>\n",
              "      <td>415.000000</td>\n",
              "      <td>607.000000</td>\n",
              "      <td>0.614656</td>\n",
              "      <td>3589.000000</td>\n",
              "      <td>3589.000000</td>\n",
              "    </tr>\n",
              "  </tbody>\n",
              "</table>\n",
              "</div>"
            ],
            "text/plain": [
              "                    0          1  ...    macro avg  weighted avg\n",
              "precision    0.348913   0.903226  ...     0.668633      0.652324\n",
              "recall       0.687366   0.500000  ...     0.592454      0.614656\n",
              "f1-score     0.462870   0.643678  ...     0.610611      0.621343\n",
              "support    467.000000  56.000000  ...  3589.000000   3589.000000\n",
              "\n",
              "[4 rows x 10 columns]"
            ]
          },
          "metadata": {
            "tags": []
          },
          "execution_count": 21
        }
      ]
    },
    {
      "cell_type": "code",
      "metadata": {
        "colab": {
          "base_uri": "https://localhost:8080/"
        },
        "id": "6qjpDCY7QUPP",
        "outputId": "b4d4d953-3c33-4258-f6c1-bacc0a072d08"
      },
      "source": [
        "y_predev = model.predict(X_eval)\n",
        "y_trueev = Y_eval\n",
        "y_trueev = np.argmax(y_trueev,axis=1)\n",
        "y_predev = np.argmax(y_predev>0.5,axis=1)\n",
        "\n",
        "from sklearn.metrics import classification_report\n",
        "target_names = ['Angry','disgust', 'fear', 'happy','sad','surprise', 'neutral']\n",
        "print(classification_report(y_trueev, y_predev, target_names=target_names))"
      ],
      "execution_count": null,
      "outputs": [
        {
          "output_type": "stream",
          "text": [
            "              precision    recall  f1-score   support\n",
            "\n",
            "       Angry       0.38      0.68      0.49       491\n",
            "     disgust       0.91      0.56      0.70        55\n",
            "        fear       0.61      0.44      0.51       528\n",
            "       happy       0.86      0.82      0.84       879\n",
            "         sad       0.54      0.44      0.48       594\n",
            "    surprise       0.83      0.75      0.79       416\n",
            "     neutral       0.64      0.63      0.63       626\n",
            "\n",
            "    accuracy                           0.63      3589\n",
            "   macro avg       0.68      0.62      0.63      3589\n",
            "weighted avg       0.67      0.63      0.64      3589\n",
            "\n"
          ],
          "name": "stdout"
        }
      ]
    },
    {
      "cell_type": "code",
      "metadata": {
        "colab": {
          "base_uri": "https://localhost:8080/",
          "height": 599
        },
        "id": "Ah4QY1x3QUfA",
        "outputId": "0769fbb1-e21a-448a-cd7c-050abac0722b"
      },
      "source": [
        "from sklearn.metrics import confusion_matrix\n",
        "cm = confusion_matrix(y_trueev, y_predev)\n",
        "import tensorflow as tf\n",
        "confusion_matrix = tf.math.confusion_matrix(labels=y_trueev, predictions=y_predev).numpy()\n",
        "confusion_matrix = np.around(confusion_matrix.astype('float') / confusion_matrix.sum(axis=1)[:, np.newaxis], decimals=2)\n",
        "\n",
        "confusion_matrix = pd.DataFrame(confusion_matrix,\n",
        "                                index = target_names, \n",
        "                                columns = target_names)\n",
        "\n",
        "\n",
        "import seaborn as sns\n",
        "figure = plt.figure(figsize=(8, 8))\n",
        "sns.heatmap(confusion_matrix, annot=True,cmap=plt.cm.Blues)\n",
        "plt.tight_layout()\n",
        "plt.ylabel('True label')\n",
        "plt.xlabel('Predicted label')\n",
        "plt.show()"
      ],
      "execution_count": null,
      "outputs": [
        {
          "output_type": "display_data",
          "data": {
            "image/png": "[encoded data removed]",
            "text/plain": [
              "<Figure size 576x576 with 2 Axes>"
            ]
          },
          "metadata": {
            "tags": [],
            "needs_background": "light"
          }
        }
      ]
    },
    {
      "cell_type": "code",
      "metadata": {
        "colab": {
          "base_uri": "https://localhost:8080/",
          "height": 173
        },
        "id": "CfJmINsBQUg6",
        "outputId": "12e83214-3fcf-4c15-9003-2f343eb2327a"
      },
      "source": [
        "import pandas as pd\n",
        "from sklearn.metrics import classification_report\n",
        "\n",
        "report_dict = classification_report(y_trueev, y_predev, output_dict=True)\n",
        "report = pd.DataFrame(report_dict)\n",
        "\n",
        "report"
      ],
      "execution_count": null,
      "outputs": [
        {
          "output_type": "execute_result",
          "data": {
            "text/html": [
              "<div>\n",
              "<style scoped>\n",
              "    .dataframe tbody tr th:only-of-type {\n",
              "        vertical-align: middle;\n",
              "    }\n",
              "\n",
              "    .dataframe tbody tr th {\n",
              "        vertical-align: top;\n",
              "    }\n",
              "\n",
              "    .dataframe thead th {\n",
              "        text-align: right;\n",
              "    }\n",
              "</style>\n",
              "<table border=\"1\" class=\"dataframe\">\n",
              "  <thead>\n",
              "    <tr style=\"text-align: right;\">\n",
              "      <th></th>\n",
              "      <th>0</th>\n",
              "      <th>1</th>\n",
              "      <th>2</th>\n",
              "      <th>3</th>\n",
              "      <th>4</th>\n",
              "      <th>5</th>\n",
              "      <th>6</th>\n",
              "      <th>accuracy</th>\n",
              "      <th>macro avg</th>\n",
              "      <th>weighted avg</th>\n",
              "    </tr>\n",
              "  </thead>\n",
              "  <tbody>\n",
              "    <tr>\n",
              "      <th>precision</th>\n",
              "      <td>0.320179</td>\n",
              "      <td>0.750000</td>\n",
              "      <td>0.607784</td>\n",
              "      <td>0.894194</td>\n",
              "      <td>0.568182</td>\n",
              "      <td>0.846154</td>\n",
              "      <td>0.623140</td>\n",
              "      <td>0.604904</td>\n",
              "      <td>0.658519</td>\n",
              "      <td>0.664517</td>\n",
              "    </tr>\n",
              "    <tr>\n",
              "      <th>recall</th>\n",
              "      <td>0.727088</td>\n",
              "      <td>0.600000</td>\n",
              "      <td>0.384470</td>\n",
              "      <td>0.788396</td>\n",
              "      <td>0.336700</td>\n",
              "      <td>0.740385</td>\n",
              "      <td>0.602236</td>\n",
              "      <td>0.604904</td>\n",
              "      <td>0.597039</td>\n",
              "      <td>0.604904</td>\n",
              "    </tr>\n",
              "    <tr>\n",
              "      <th>f1-score</th>\n",
              "      <td>0.444583</td>\n",
              "      <td>0.666667</td>\n",
              "      <td>0.470998</td>\n",
              "      <td>0.837969</td>\n",
              "      <td>0.422833</td>\n",
              "      <td>0.789744</td>\n",
              "      <td>0.612510</td>\n",
              "      <td>0.604904</td>\n",
              "      <td>0.606472</td>\n",
              "      <td>0.613916</td>\n",
              "    </tr>\n",
              "    <tr>\n",
              "      <th>support</th>\n",
              "      <td>491.000000</td>\n",
              "      <td>55.000000</td>\n",
              "      <td>528.000000</td>\n",
              "      <td>879.000000</td>\n",
              "      <td>594.000000</td>\n",
              "      <td>416.000000</td>\n",
              "      <td>626.000000</td>\n",
              "      <td>0.604904</td>\n",
              "      <td>3589.000000</td>\n",
              "      <td>3589.000000</td>\n",
              "    </tr>\n",
              "  </tbody>\n",
              "</table>\n",
              "</div>"
            ],
            "text/plain": [
              "                    0          1  ...    macro avg  weighted avg\n",
              "precision    0.320179   0.750000  ...     0.658519      0.664517\n",
              "recall       0.727088   0.600000  ...     0.597039      0.604904\n",
              "f1-score     0.444583   0.666667  ...     0.606472      0.613916\n",
              "support    491.000000  55.000000  ...  3589.000000   3589.000000\n",
              "\n",
              "[4 rows x 10 columns]"
            ]
          },
          "metadata": {
            "tags": []
          },
          "execution_count": 40
        }
      ]
    },
    {
      "cell_type": "code",
      "metadata": {
        "id": "Dzqq0nUsQUlx"
      },
      "source": [
        ""
      ],
      "execution_count": null,
      "outputs": []
    }
  ]
}